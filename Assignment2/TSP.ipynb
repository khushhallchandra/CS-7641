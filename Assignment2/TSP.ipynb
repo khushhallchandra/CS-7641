{
 "cells": [
  {
   "cell_type": "code",
   "execution_count": 1,
   "metadata": {},
   "outputs": [],
   "source": [
    "import mlrose\n",
    "import numpy as np\n",
    "import matplotlib.pyplot as plt\n",
    "from time import perf_counter as pc\n",
    "import itertools\n",
    "import pandas as pd\n",
    "import copy"
   ]
  },
  {
   "cell_type": "code",
   "execution_count": 2,
   "metadata": {},
   "outputs": [
    {
     "name": "stdout",
     "output_type": "stream",
     "text": [
      "Looping for MIMIC, n_location=5\n"
     ]
    },
    {
     "ename": "AttributeError",
     "evalue": "module 'mlrose' has no attribute 'GridSearch'",
     "output_type": "error",
     "traceback": [
      "\u001b[0;31m---------------------------------------------------------------------------\u001b[0m",
      "\u001b[0;31mAttributeError\u001b[0m                            Traceback (most recent call last)",
      "\u001b[0;32m<ipython-input-2-df8b58c2b79b>\u001b[0m in \u001b[0;36m<module>\u001b[0;34m\u001b[0m\n\u001b[1;32m     44\u001b[0m \u001b[0;34m\u001b[0m\u001b[0m\n\u001b[1;32m     45\u001b[0m         \u001b[0mprint\u001b[0m\u001b[0;34m(\u001b[0m\u001b[0;34mf\"Looping for {algo_name}, n_location={n_location}\"\u001b[0m\u001b[0;34m)\u001b[0m\u001b[0;34m\u001b[0m\u001b[0m\n\u001b[0;32m---> 46\u001b[0;31m         gs = mlrose.GridSearch(algorithm=thisSettings['algorithm'], param_grid_algorithm=thisSettings['param_grid_algorithm'], \n\u001b[0m\u001b[1;32m     47\u001b[0m                                problem=thisSettings['problem'], param_grid_problem=thisSettings['param_grid_problem'], iters=iters)\n\u001b[1;32m     48\u001b[0m         \u001b[0mgs\u001b[0m\u001b[0;34m.\u001b[0m\u001b[0mevaluate\u001b[0m\u001b[0;34m(\u001b[0m\u001b[0;34m)\u001b[0m\u001b[0;34m\u001b[0m\u001b[0m\n",
      "\u001b[0;31mAttributeError\u001b[0m: module 'mlrose' has no attribute 'GridSearch'"
     ]
    }
   ],
   "source": [
    "iters = 5 # number of iterations for each setting in grid search\n",
    "\n",
    "results = {}    \n",
    "\n",
    "np.random.seed(13)\n",
    "\n",
    "n_locations = [5, 10, 15, 20, 25]\n",
    "coord_lists = {n_location: np.random.randint(0, 10, size=(n_location, 2)).tolist() for n_location in n_locations}\n",
    "\n",
    "problem = mlrose.TSPOpt\n",
    "\n",
    "algorithms = {\n",
    "    'MIMIC': {\n",
    "        'algorithm': mlrose.mimic,\n",
    "        'param_grid_algorithm': {'return_statistics': True, 'pop_size': ['15*problem_length'], 'keep_pct': [0.2], 'max_attempts': [50], 'max_iters': 1000},\n",
    "    },\n",
    "    'Hill Climbing': {\n",
    "        'algorithm': mlrose.hill_climb,\n",
    "        'param_grid_algorithm': {'return_statistics': True, 'restarts': 5},\n",
    "    },\n",
    "    'Simulated Annealing': {\n",
    "        'algorithm': mlrose.simulated_annealing,\n",
    "        'param_grid_algorithm': {'return_statistics': True, 'max_attempts': 500, 'max_iters': 100000},\n",
    "    },\n",
    "    'Genetic Algorithm': {\n",
    "        'algorithm': mlrose.genetic_alg,\n",
    "        'param_grid_algorithm': {'return_statistics': True, 'elite': [0.5], 'pop_size': ['10*problem_length'], 'mutation_prob': 0.1, 'max_attempts': 50},\n",
    "    },\n",
    "}\n",
    "\n",
    "for algo_name, settings in algorithms.items():\n",
    "    results[algo_name] = []\n",
    "    for n_location in n_locations:\n",
    "        fitness_fn = mlrose.TravellingSales(coords=coord_lists[n_location])\n",
    "\n",
    "        param_grid_problem = {'fitness_fn': fitness_fn,\n",
    "                              'maximize': False,\n",
    "                              'length': n_location, \n",
    "                             }\n",
    "\n",
    "        thisSettings = copy.deepcopy(settings.copy())\n",
    "        thisSettings['problem'] = problem\n",
    "        thisSettings['param_grid_problem'] = param_grid_problem\n",
    "    \n",
    "        print(f\"Looping for {algo_name}, n_location={n_location}\")\n",
    "        gs = mlrose.GridSearch(algorithm=thisSettings['algorithm'], param_grid_algorithm=thisSettings['param_grid_algorithm'], \n",
    "                               problem=thisSettings['problem'], param_grid_problem=thisSettings['param_grid_problem'], iters=iters)\n",
    "        gs.evaluate()\n",
    "        this_df = pd.DataFrame(gs.results)\n",
    "        results[algo_name].extend(gs.results)\n"
   ]
  },
  {
   "cell_type": "code",
   "execution_count": null,
   "metadata": {},
   "outputs": [],
   "source": []
  }
 ],
 "metadata": {
  "kernelspec": {
   "display_name": "myEnv",
   "language": "python",
   "name": "myenv"
  },
  "language_info": {
   "codemirror_mode": {
    "name": "ipython",
    "version": 3
   },
   "file_extension": ".py",
   "mimetype": "text/x-python",
   "name": "python",
   "nbconvert_exporter": "python",
   "pygments_lexer": "ipython3",
   "version": "3.6.3"
  }
 },
 "nbformat": 4,
 "nbformat_minor": 2
}
