{
 "cells": [
  {
   "cell_type": "code",
   "execution_count": 1,
   "metadata": {},
   "outputs": [
    {
     "name": "stderr",
     "output_type": "stream",
     "text": [
      "Using TensorFlow backend.\n"
     ]
    }
   ],
   "source": [
    "%matplotlib inline\n",
    "import random\n",
    "random.seed(0)\n",
    "import numpy as np\n",
    "import warnings\n",
    "warnings.simplefilter('ignore')\n",
    "import pandas as pd\n",
    "import seaborn as sns\n",
    "from sklearn.base import TransformerMixin,BaseEstimator\n",
    "from sklearn.pipeline import Pipeline\n",
    "from sklearn.metrics.pairwise import pairwise_distances\n",
    "from matplotlib import pyplot as plt\n",
    "from sklearn.metrics import roc_curve, auc, accuracy_score, classification_report, roc_auc_score\n",
    "from sklearn.tree import DecisionTreeClassifier\n",
    "from sklearn.preprocessing import StandardScaler\n",
    "from matplotlib.legend_handler import HandlerLine2D\n",
    "from sklearn.model_selection import train_test_split, KFold, cross_val_score, learning_curve, GridSearchCV, validation_curve\n",
    "\n",
    "import timeit\n",
    "from sklearn.neural_network import MLPClassifier\n",
    "from sklearn.model_selection import GridSearchCV\n",
    "from sklearn.decomposition import PCA, FastICA as ICA\n",
    "from sklearn.random_projection import GaussianRandomProjection as GRP, SparseRandomProjection as RCA\n",
    "from sklearn.ensemble import RandomForestClassifier\n",
    "from itertools import product\n",
    "from collections import defaultdict\n",
    "from sklearn.metrics import  confusion_matrix,adjusted_rand_score\n",
    "from sklearn.cluster import KMeans,SpectralClustering\n",
    "from sklearn.mixture import GaussianMixture\n",
    "from sklearn.metrics.cluster import homogeneity_score\n",
    "from sklearn import metrics\n",
    "from sklearn.decomposition import PCA,FastICA\n",
    "from sklearn.model_selection import train_test_split\n",
    "\n",
    "from keras.models import Sequential\n",
    "from keras.layers import Input, Dense, Conv2D, MaxPooling2D, UpSampling2D, Flatten, Reshape\n",
    "from keras import optimizers"
   ]
  },
  {
   "cell_type": "code",
   "execution_count": 2,
   "metadata": {},
   "outputs": [
    {
     "name": "stderr",
     "output_type": "stream",
     "text": [
      "/Users/khushhall/myEnv/lib/python3.6/site-packages/sklearn/utils/validation.py:590: DataConversionWarning: Data with input dtype uint8 was converted to float64 by StandardScaler.\n",
      "  warnings.warn(msg, DataConversionWarning)\n",
      "/Users/khushhall/myEnv/lib/python3.6/site-packages/sklearn/utils/validation.py:590: DataConversionWarning: Data with input dtype uint8 was converted to float64 by StandardScaler.\n",
      "  warnings.warn(msg, DataConversionWarning)\n",
      "/Users/khushhall/myEnv/lib/python3.6/site-packages/sklearn/utils/validation.py:590: DataConversionWarning: Data with input dtype uint8 was converted to float64 by StandardScaler.\n",
      "  warnings.warn(msg, DataConversionWarning)\n"
     ]
    }
   ],
   "source": [
    "from keras.datasets import mnist\n",
    "(X_train, y_train), (X_test, y_test) = mnist.load_data()\n",
    "\n",
    "skips = 2\n",
    "X_train=np.delete(X_train, list(range(0, X_train.shape[1], skips)), axis=1)\n",
    "X_train=np.delete(X_train, list(range(0, X_train.shape[2], skips)), axis=2)\n",
    "X_train = X_train.reshape(X_train.shape[0],-1)\n",
    "\n",
    "X_test = np.delete(X_test, list(range(0, X_test.shape[1], skips)), axis=1)\n",
    "X_test = np.delete(X_test, list(range(0, X_test.shape[2], skips)), axis=2)\n",
    "X_test = X_test.reshape(X_test.shape[0],-1)\n",
    "\n",
    "sc = StandardScaler()\n",
    "X_train = sc.fit_transform(X_train)\n",
    "X_test = sc.transform(X_test)\n",
    "\n",
    "idx_train = np.random.choice(60000, size = 10000, replace = False)\n",
    "idx_test = np.random.choice(10000, size = 1000, replace = False)\n",
    "X_train, y_train = X_train[idx_train], y_train[idx_train]\n",
    "X_test, y_test = X_test[idx_test], y_test[idx_test]"
   ]
  },
  {
   "cell_type": "code",
   "execution_count": 3,
   "metadata": {},
   "outputs": [],
   "source": [
    "class ImportanceSelect(BaseEstimator, TransformerMixin):\n",
    "    def __init__(self, model, n=1):\n",
    "        self.model = model\n",
    "        self.n = n\n",
    "\n",
    "    def fit(self, *args, **kwargs):\n",
    "        self.model.fit(*args, **kwargs)\n",
    "        return self\n",
    "\n",
    "    def transform(self, X):\n",
    "        return X[:,self.model.feature_importances_.argsort()[::-1][:self.n]]"
   ]
  },
  {
   "cell_type": "markdown",
   "metadata": {},
   "source": [
    "## MLP with RF "
   ]
  },
  {
   "cell_type": "code",
   "execution_count": 4,
   "metadata": {},
   "outputs": [
    {
     "name": "stderr",
     "output_type": "stream",
     "text": [
      "[Parallel(n_jobs=1)]: Using backend SequentialBackend with 1 concurrent workers.\n"
     ]
    },
    {
     "name": "stdout",
     "output_type": "stream",
     "text": [
      "Fitting 5 folds for each of 25 candidates, totalling 125 fits\n",
      "[CV] NN__hidden_layer_sizes=100, filter__n=36 ........................\n",
      "[CV]  NN__hidden_layer_sizes=100, filter__n=36, score=0.8946580129805292, total=   4.3s\n",
      "[CV] NN__hidden_layer_sizes=100, filter__n=36 ........................\n"
     ]
    },
    {
     "name": "stderr",
     "output_type": "stream",
     "text": [
      "[Parallel(n_jobs=1)]: Done   1 out of   1 | elapsed:    4.3s remaining:    0.0s\n"
     ]
    },
    {
     "name": "stdout",
     "output_type": "stream",
     "text": [
      "[CV]  NN__hidden_layer_sizes=100, filter__n=36, score=0.9036445332001997, total=   4.6s\n",
      "[CV] NN__hidden_layer_sizes=100, filter__n=36 ........................\n"
     ]
    },
    {
     "name": "stderr",
     "output_type": "stream",
     "text": [
      "[Parallel(n_jobs=1)]: Done   2 out of   2 | elapsed:    9.0s remaining:    0.0s\n"
     ]
    },
    {
     "name": "stdout",
     "output_type": "stream",
     "text": [
      "[CV]  NN__hidden_layer_sizes=100, filter__n=36, score=0.9125874125874126, total=   4.2s\n",
      "[CV] NN__hidden_layer_sizes=100, filter__n=36 ........................\n"
     ]
    },
    {
     "name": "stderr",
     "output_type": "stream",
     "text": [
      "[Parallel(n_jobs=1)]: Done   3 out of   3 | elapsed:   13.3s remaining:    0.0s\n"
     ]
    },
    {
     "name": "stdout",
     "output_type": "stream",
     "text": [
      "[CV]  NN__hidden_layer_sizes=100, filter__n=36, score=0.9138708062093139, total=   5.5s\n",
      "[CV] NN__hidden_layer_sizes=100, filter__n=36 ........................\n"
     ]
    },
    {
     "name": "stderr",
     "output_type": "stream",
     "text": [
      "[Parallel(n_jobs=1)]: Done   4 out of   4 | elapsed:   18.8s remaining:    0.0s\n"
     ]
    },
    {
     "name": "stdout",
     "output_type": "stream",
     "text": [
      "[CV]  NN__hidden_layer_sizes=100, filter__n=36, score=0.9037593984962407, total=   4.9s\n",
      "[CV] NN__hidden_layer_sizes=100, filter__n=76 ........................\n"
     ]
    },
    {
     "name": "stderr",
     "output_type": "stream",
     "text": [
      "[Parallel(n_jobs=1)]: Done   5 out of   5 | elapsed:   23.7s remaining:    0.0s\n"
     ]
    },
    {
     "name": "stdout",
     "output_type": "stream",
     "text": [
      "[CV]  NN__hidden_layer_sizes=100, filter__n=76, score=0.9375936095856215, total=   4.4s\n",
      "[CV] NN__hidden_layer_sizes=100, filter__n=76 ........................\n"
     ]
    },
    {
     "name": "stderr",
     "output_type": "stream",
     "text": [
      "[Parallel(n_jobs=1)]: Done   6 out of   6 | elapsed:   28.1s remaining:    0.0s\n"
     ]
    },
    {
     "name": "stdout",
     "output_type": "stream",
     "text": [
      "[CV]  NN__hidden_layer_sizes=100, filter__n=76, score=0.926110833749376, total=   3.7s\n",
      "[CV] NN__hidden_layer_sizes=100, filter__n=76 ........................\n"
     ]
    },
    {
     "name": "stderr",
     "output_type": "stream",
     "text": [
      "[Parallel(n_jobs=1)]: Done   7 out of   7 | elapsed:   31.9s remaining:    0.0s\n"
     ]
    },
    {
     "name": "stdout",
     "output_type": "stream",
     "text": [
      "[CV]  NN__hidden_layer_sizes=100, filter__n=76, score=0.9375624375624375, total=   4.2s\n",
      "[CV] NN__hidden_layer_sizes=100, filter__n=76 ........................\n"
     ]
    },
    {
     "name": "stderr",
     "output_type": "stream",
     "text": [
      "[Parallel(n_jobs=1)]: Done   8 out of   8 | elapsed:   36.2s remaining:    0.0s\n"
     ]
    },
    {
     "name": "stdout",
     "output_type": "stream",
     "text": [
      "[CV]  NN__hidden_layer_sizes=100, filter__n=76, score=0.9308963445167752, total=   4.0s\n",
      "[CV] NN__hidden_layer_sizes=100, filter__n=76 ........................\n"
     ]
    },
    {
     "name": "stderr",
     "output_type": "stream",
     "text": [
      "[Parallel(n_jobs=1)]: Done   9 out of   9 | elapsed:   40.2s remaining:    0.0s\n"
     ]
    },
    {
     "name": "stdout",
     "output_type": "stream",
     "text": [
      "[CV]  NN__hidden_layer_sizes=100, filter__n=76, score=0.9393483709273183, total=   5.2s\n",
      "[CV] NN__hidden_layer_sizes=100, filter__n=116 .......................\n",
      "[CV]  NN__hidden_layer_sizes=100, filter__n=116, score=0.928607089365951, total=   4.1s\n",
      "[CV] NN__hidden_layer_sizes=100, filter__n=116 .......................\n",
      "[CV]  NN__hidden_layer_sizes=100, filter__n=116, score=0.9331003494757864, total=   4.4s\n",
      "[CV] NN__hidden_layer_sizes=100, filter__n=116 .......................\n",
      "[CV]  NN__hidden_layer_sizes=100, filter__n=116, score=0.9375624375624375, total=   7.4s\n",
      "[CV] NN__hidden_layer_sizes=100, filter__n=116 .......................\n",
      "[CV]  NN__hidden_layer_sizes=100, filter__n=116, score=0.9359038557836755, total=   4.6s\n",
      "[CV] NN__hidden_layer_sizes=100, filter__n=116 .......................\n",
      "[CV]  NN__hidden_layer_sizes=100, filter__n=116, score=0.9453634085213033, total=   9.8s\n",
      "[CV] NN__hidden_layer_sizes=100, filter__n=156 .......................\n",
      "[CV]  NN__hidden_layer_sizes=100, filter__n=156, score=0.9256115826260609, total=   6.5s\n",
      "[CV] NN__hidden_layer_sizes=100, filter__n=156 .......................\n",
      "[CV]  NN__hidden_layer_sizes=100, filter__n=156, score=0.9291063404892661, total=   5.2s\n",
      "[CV] NN__hidden_layer_sizes=100, filter__n=156 .......................\n",
      "[CV]  NN__hidden_layer_sizes=100, filter__n=156, score=0.9385614385614386, total=   5.0s\n",
      "[CV] NN__hidden_layer_sizes=100, filter__n=156 .......................\n",
      "[CV]  NN__hidden_layer_sizes=100, filter__n=156, score=0.9334001001502253, total=   4.9s\n",
      "[CV] NN__hidden_layer_sizes=100, filter__n=156 .......................\n",
      "[CV]  NN__hidden_layer_sizes=100, filter__n=156, score=0.9323308270676691, total=   4.9s\n",
      "[CV] NN__hidden_layer_sizes=100, filter__n=196 .......................\n",
      "[CV]  NN__hidden_layer_sizes=100, filter__n=196, score=0.9306040938592112, total=   4.9s\n",
      "[CV] NN__hidden_layer_sizes=100, filter__n=196 .......................\n",
      "[CV]  NN__hidden_layer_sizes=100, filter__n=196, score=0.9296055916125812, total=   5.4s\n",
      "[CV] NN__hidden_layer_sizes=100, filter__n=196 .......................\n",
      "[CV]  NN__hidden_layer_sizes=100, filter__n=196, score=0.9375624375624375, total=   7.3s\n",
      "[CV] NN__hidden_layer_sizes=100, filter__n=196 .......................\n",
      "[CV]  NN__hidden_layer_sizes=100, filter__n=196, score=0.942914371557336, total=   9.9s\n",
      "[CV] NN__hidden_layer_sizes=100, filter__n=196 .......................\n",
      "[CV]  NN__hidden_layer_sizes=100, filter__n=196, score=0.9293233082706767, total=   5.4s\n",
      "[CV] NN__hidden_layer_sizes=(100, 100), filter__n=36 .................\n",
      "[CV]  NN__hidden_layer_sizes=(100, 100), filter__n=36, score=0.8966550174737893, total=   7.9s\n",
      "[CV] NN__hidden_layer_sizes=(100, 100), filter__n=36 .................\n",
      "[CV]  NN__hidden_layer_sizes=(100, 100), filter__n=36, score=0.9031452820768847, total=   5.5s\n",
      "[CV] NN__hidden_layer_sizes=(100, 100), filter__n=36 .................\n",
      "[CV]  NN__hidden_layer_sizes=(100, 100), filter__n=36, score=0.903096903096903, total=   6.1s\n",
      "[CV] NN__hidden_layer_sizes=(100, 100), filter__n=36 .................\n",
      "[CV]  NN__hidden_layer_sizes=(100, 100), filter__n=36, score=0.9058587881822734, total=   6.2s\n",
      "[CV] NN__hidden_layer_sizes=(100, 100), filter__n=36 .................\n",
      "[CV]  NN__hidden_layer_sizes=(100, 100), filter__n=36, score=0.8992481203007519, total=   4.5s\n",
      "[CV] NN__hidden_layer_sizes=(100, 100), filter__n=76 .................\n",
      "[CV]  NN__hidden_layer_sizes=(100, 100), filter__n=76, score=0.927608587119321, total=   5.6s\n",
      "[CV] NN__hidden_layer_sizes=(100, 100), filter__n=76 .................\n",
      "[CV]  NN__hidden_layer_sizes=(100, 100), filter__n=76, score=0.9266100848726909, total=   4.3s\n",
      "[CV] NN__hidden_layer_sizes=(100, 100), filter__n=76 .................\n",
      "[CV]  NN__hidden_layer_sizes=(100, 100), filter__n=76, score=0.9400599400599401, total=   5.7s\n",
      "[CV] NN__hidden_layer_sizes=(100, 100), filter__n=76 .................\n",
      "[CV]  NN__hidden_layer_sizes=(100, 100), filter__n=76, score=0.9384076114171257, total=   9.6s\n",
      "[CV] NN__hidden_layer_sizes=(100, 100), filter__n=76 .................\n",
      "[CV]  NN__hidden_layer_sizes=(100, 100), filter__n=76, score=0.9363408521303258, total=   5.8s\n",
      "[CV] NN__hidden_layer_sizes=(100, 100), filter__n=116 ................\n",
      "[CV]  NN__hidden_layer_sizes=(100, 100), filter__n=116, score=0.9196205691462805, total=   5.3s\n",
      "[CV] NN__hidden_layer_sizes=(100, 100), filter__n=116 ................\n",
      "[CV]  NN__hidden_layer_sizes=(100, 100), filter__n=116, score=0.926110833749376, total=   5.1s\n",
      "[CV] NN__hidden_layer_sizes=(100, 100), filter__n=116 ................\n",
      "[CV]  NN__hidden_layer_sizes=(100, 100), filter__n=116, score=0.9355644355644356, total=   5.3s\n",
      "[CV] NN__hidden_layer_sizes=(100, 100), filter__n=116 ................\n",
      "[CV]  NN__hidden_layer_sizes=(100, 100), filter__n=116, score=0.9308963445167752, total=   4.9s\n",
      "[CV] NN__hidden_layer_sizes=(100, 100), filter__n=116 ................\n",
      "[CV]  NN__hidden_layer_sizes=(100, 100), filter__n=116, score=0.9423558897243107, total=   6.0s\n",
      "[CV] NN__hidden_layer_sizes=(100, 100), filter__n=156 ................\n",
      "[CV]  NN__hidden_layer_sizes=(100, 100), filter__n=156, score=0.9256115826260609, total=   5.7s\n",
      "[CV] NN__hidden_layer_sizes=(100, 100), filter__n=156 ................\n",
      "[CV]  NN__hidden_layer_sizes=(100, 100), filter__n=156, score=0.9350973539690465, total=   5.5s\n",
      "[CV] NN__hidden_layer_sizes=(100, 100), filter__n=156 ................\n",
      "[CV]  NN__hidden_layer_sizes=(100, 100), filter__n=156, score=0.9395604395604396, total=   6.8s\n",
      "[CV] NN__hidden_layer_sizes=(100, 100), filter__n=156 ................\n",
      "[CV]  NN__hidden_layer_sizes=(100, 100), filter__n=156, score=0.9364046069103655, total=   6.9s\n",
      "[CV] NN__hidden_layer_sizes=(100, 100), filter__n=156 ................\n",
      "[CV]  NN__hidden_layer_sizes=(100, 100), filter__n=156, score=0.9348370927318296, total=   6.2s\n",
      "[CV] NN__hidden_layer_sizes=(100, 100), filter__n=196 ................\n",
      "[CV]  NN__hidden_layer_sizes=(100, 100), filter__n=196, score=0.9301048427358961, total=   6.4s\n",
      "[CV] NN__hidden_layer_sizes=(100, 100), filter__n=196 ................\n",
      "[CV]  NN__hidden_layer_sizes=(100, 100), filter__n=196, score=0.9201198202695956, total=   4.8s\n",
      "[CV] NN__hidden_layer_sizes=(100, 100), filter__n=196 ................\n",
      "[CV]  NN__hidden_layer_sizes=(100, 100), filter__n=196, score=0.936063936063936, total=   6.6s\n",
      "[CV] NN__hidden_layer_sizes=(100, 100), filter__n=196 ................\n",
      "[CV]  NN__hidden_layer_sizes=(100, 100), filter__n=196, score=0.9394091136705057, total=   6.7s\n",
      "[CV] NN__hidden_layer_sizes=(100, 100), filter__n=196 ................\n",
      "[CV]  NN__hidden_layer_sizes=(100, 100), filter__n=196, score=0.9323308270676691, total=   6.0s\n",
      "[CV] NN__hidden_layer_sizes=(100, 100, 100), filter__n=36 ............\n",
      "[CV]  NN__hidden_layer_sizes=(100, 100, 100), filter__n=36, score=0.8986520219670494, total=   5.7s\n",
      "[CV] NN__hidden_layer_sizes=(100, 100, 100), filter__n=36 ............\n",
      "[CV]  NN__hidden_layer_sizes=(100, 100, 100), filter__n=36, score=0.9116325511732402, total=   7.1s\n",
      "[CV] NN__hidden_layer_sizes=(100, 100, 100), filter__n=36 ............\n",
      "[CV]  NN__hidden_layer_sizes=(100, 100, 100), filter__n=36, score=0.913086913086913, total=   6.1s\n",
      "[CV] NN__hidden_layer_sizes=(100, 100, 100), filter__n=36 ............\n",
      "[CV]  NN__hidden_layer_sizes=(100, 100, 100), filter__n=36, score=0.9083625438157236, total=   5.6s\n",
      "[CV] NN__hidden_layer_sizes=(100, 100, 100), filter__n=36 ............\n",
      "[CV]  NN__hidden_layer_sizes=(100, 100, 100), filter__n=36, score=0.9112781954887218, total=   7.9s\n",
      "[CV] NN__hidden_layer_sizes=(100, 100, 100), filter__n=76 ............\n",
      "[CV]  NN__hidden_layer_sizes=(100, 100, 100), filter__n=76, score=0.927608587119321, total=   5.9s\n",
      "[CV] NN__hidden_layer_sizes=(100, 100, 100), filter__n=76 ............\n",
      "[CV]  NN__hidden_layer_sizes=(100, 100, 100), filter__n=76, score=0.9311033449825262, total=   6.1s\n",
      "[CV] NN__hidden_layer_sizes=(100, 100, 100), filter__n=76 ............\n",
      "[CV]  NN__hidden_layer_sizes=(100, 100, 100), filter__n=76, score=0.9365634365634365, total=   8.7s\n",
      "[CV] NN__hidden_layer_sizes=(100, 100, 100), filter__n=76 ............\n",
      "[CV]  NN__hidden_layer_sizes=(100, 100, 100), filter__n=76, score=0.9323985978968453, total=   5.9s\n",
      "[CV] NN__hidden_layer_sizes=(100, 100, 100), filter__n=76 ............\n"
     ]
    },
    {
     "name": "stdout",
     "output_type": "stream",
     "text": [
      "[CV]  NN__hidden_layer_sizes=(100, 100, 100), filter__n=76, score=0.9413533834586466, total=   8.8s\n",
      "[CV] NN__hidden_layer_sizes=(100, 100, 100), filter__n=116 ...........\n",
      "[CV]  NN__hidden_layer_sizes=(100, 100, 100), filter__n=116, score=0.9291063404892661, total=   5.4s\n",
      "[CV] NN__hidden_layer_sizes=(100, 100, 100), filter__n=116 ...........\n",
      "[CV]  NN__hidden_layer_sizes=(100, 100, 100), filter__n=116, score=0.9236145781328008, total=   6.3s\n",
      "[CV] NN__hidden_layer_sizes=(100, 100, 100), filter__n=116 ...........\n",
      "[CV]  NN__hidden_layer_sizes=(100, 100, 100), filter__n=116, score=0.9255744255744256, total=   6.2s\n",
      "[CV] NN__hidden_layer_sizes=(100, 100, 100), filter__n=116 ...........\n",
      "[CV]  NN__hidden_layer_sizes=(100, 100, 100), filter__n=116, score=0.9374061091637457, total=   7.3s\n",
      "[CV] NN__hidden_layer_sizes=(100, 100, 100), filter__n=116 ...........\n",
      "[CV]  NN__hidden_layer_sizes=(100, 100, 100), filter__n=116, score=0.9438596491228071, total=   8.6s\n",
      "[CV] NN__hidden_layer_sizes=(100, 100, 100), filter__n=156 ...........\n",
      "[CV]  NN__hidden_layer_sizes=(100, 100, 100), filter__n=156, score=0.9301048427358961, total=   8.2s\n",
      "[CV] NN__hidden_layer_sizes=(100, 100, 100), filter__n=156 ...........\n",
      "[CV]  NN__hidden_layer_sizes=(100, 100, 100), filter__n=156, score=0.9281078382426361, total=   5.7s\n",
      "[CV] NN__hidden_layer_sizes=(100, 100, 100), filter__n=156 ...........\n",
      "[CV]  NN__hidden_layer_sizes=(100, 100, 100), filter__n=156, score=0.9345654345654346, total=   7.2s\n",
      "[CV] NN__hidden_layer_sizes=(100, 100, 100), filter__n=156 ...........\n",
      "[CV]  NN__hidden_layer_sizes=(100, 100, 100), filter__n=156, score=0.9323985978968453, total=   8.3s\n",
      "[CV] NN__hidden_layer_sizes=(100, 100, 100), filter__n=156 ...........\n",
      "[CV]  NN__hidden_layer_sizes=(100, 100, 100), filter__n=156, score=0.9358395989974937, total=   5.8s\n",
      "[CV] NN__hidden_layer_sizes=(100, 100, 100), filter__n=196 ...........\n",
      "[CV]  NN__hidden_layer_sizes=(100, 100, 100), filter__n=196, score=0.9241138292561158, total=   8.7s\n",
      "[CV] NN__hidden_layer_sizes=(100, 100, 100), filter__n=196 ...........\n",
      "[CV]  NN__hidden_layer_sizes=(100, 100, 100), filter__n=196, score=0.9355966050923614, total=   7.2s\n",
      "[CV] NN__hidden_layer_sizes=(100, 100, 100), filter__n=196 ...........\n",
      "[CV]  NN__hidden_layer_sizes=(100, 100, 100), filter__n=196, score=0.9335664335664335, total=   7.1s\n",
      "[CV] NN__hidden_layer_sizes=(100, 100, 100), filter__n=196 ...........\n",
      "[CV]  NN__hidden_layer_sizes=(100, 100, 100), filter__n=196, score=0.9303955933900852, total=   6.9s\n",
      "[CV] NN__hidden_layer_sizes=(100, 100, 100), filter__n=196 ...........\n",
      "[CV]  NN__hidden_layer_sizes=(100, 100, 100), filter__n=196, score=0.9338345864661655, total=   6.8s\n",
      "[CV] NN__hidden_layer_sizes=(100, 100, 100, 100), filter__n=36 .......\n",
      "[CV]  NN__hidden_layer_sizes=(100, 100, 100, 100), filter__n=36, score=0.8961557663504743, total=   7.5s\n",
      "[CV] NN__hidden_layer_sizes=(100, 100, 100, 100), filter__n=36 .......\n",
      "[CV]  NN__hidden_layer_sizes=(100, 100, 100, 100), filter__n=36, score=0.9041437843235147, total=   8.5s\n",
      "[CV] NN__hidden_layer_sizes=(100, 100, 100, 100), filter__n=36 .......\n",
      "[CV]  NN__hidden_layer_sizes=(100, 100, 100, 100), filter__n=36, score=0.9045954045954046, total=   5.5s\n",
      "[CV] NN__hidden_layer_sizes=(100, 100, 100, 100), filter__n=36 .......\n",
      "[CV]  NN__hidden_layer_sizes=(100, 100, 100, 100), filter__n=36, score=0.9023535302954432, total=   8.2s\n",
      "[CV] NN__hidden_layer_sizes=(100, 100, 100, 100), filter__n=36 .......\n",
      "[CV]  NN__hidden_layer_sizes=(100, 100, 100, 100), filter__n=36, score=0.9052631578947369, total=   8.2s\n",
      "[CV] NN__hidden_layer_sizes=(100, 100, 100, 100), filter__n=76 .......\n",
      "[CV]  NN__hidden_layer_sizes=(100, 100, 100, 100), filter__n=76, score=0.928607089365951, total=   5.8s\n",
      "[CV] NN__hidden_layer_sizes=(100, 100, 100, 100), filter__n=76 .......\n",
      "[CV]  NN__hidden_layer_sizes=(100, 100, 100, 100), filter__n=76, score=0.9326010983524713, total=   7.8s\n",
      "[CV] NN__hidden_layer_sizes=(100, 100, 100, 100), filter__n=76 .......\n",
      "[CV]  NN__hidden_layer_sizes=(100, 100, 100, 100), filter__n=76, score=0.938061938061938, total=   7.3s\n",
      "[CV] NN__hidden_layer_sizes=(100, 100, 100, 100), filter__n=76 .......\n",
      "[CV]  NN__hidden_layer_sizes=(100, 100, 100, 100), filter__n=76, score=0.9339008512769154, total=   8.7s\n",
      "[CV] NN__hidden_layer_sizes=(100, 100, 100, 100), filter__n=76 .......\n",
      "[CV]  NN__hidden_layer_sizes=(100, 100, 100, 100), filter__n=76, score=0.9393483709273183, total=   7.6s\n",
      "[CV] NN__hidden_layer_sizes=(100, 100, 100, 100), filter__n=116 ......\n",
      "[CV]  NN__hidden_layer_sizes=(100, 100, 100, 100), filter__n=116, score=0.9196205691462805, total=   7.2s\n",
      "[CV] NN__hidden_layer_sizes=(100, 100, 100, 100), filter__n=116 ......\n",
      "[CV]  NN__hidden_layer_sizes=(100, 100, 100, 100), filter__n=116, score=0.9335996005991013, total=   7.8s\n",
      "[CV] NN__hidden_layer_sizes=(100, 100, 100, 100), filter__n=116 ......\n",
      "[CV]  NN__hidden_layer_sizes=(100, 100, 100, 100), filter__n=116, score=0.9215784215784216, total=   6.5s\n",
      "[CV] NN__hidden_layer_sizes=(100, 100, 100, 100), filter__n=116 ......\n",
      "[CV]  NN__hidden_layer_sizes=(100, 100, 100, 100), filter__n=116, score=0.9354031046569855, total=   8.7s\n",
      "[CV] NN__hidden_layer_sizes=(100, 100, 100, 100), filter__n=116 ......\n",
      "[CV]  NN__hidden_layer_sizes=(100, 100, 100, 100), filter__n=116, score=0.9363408521303258, total=   8.2s\n",
      "[CV] NN__hidden_layer_sizes=(100, 100, 100, 100), filter__n=156 ......\n",
      "[CV]  NN__hidden_layer_sizes=(100, 100, 100, 100), filter__n=156, score=0.9246130803794309, total=   7.7s\n",
      "[CV] NN__hidden_layer_sizes=(100, 100, 100, 100), filter__n=156 ......\n",
      "[CV]  NN__hidden_layer_sizes=(100, 100, 100, 100), filter__n=156, score=0.9291063404892661, total=   7.4s\n",
      "[CV] NN__hidden_layer_sizes=(100, 100, 100, 100), filter__n=156 ......\n",
      "[CV]  NN__hidden_layer_sizes=(100, 100, 100, 100), filter__n=156, score=0.9270729270729271, total=   8.2s\n",
      "[CV] NN__hidden_layer_sizes=(100, 100, 100, 100), filter__n=156 ......\n",
      "[CV]  NN__hidden_layer_sizes=(100, 100, 100, 100), filter__n=156, score=0.9178768152228343, total=   5.6s\n",
      "[CV] NN__hidden_layer_sizes=(100, 100, 100, 100), filter__n=156 ......\n",
      "[CV]  NN__hidden_layer_sizes=(100, 100, 100, 100), filter__n=156, score=0.9338345864661655, total=  11.2s\n",
      "[CV] NN__hidden_layer_sizes=(100, 100, 100, 100), filter__n=196 ......\n",
      "[CV]  NN__hidden_layer_sizes=(100, 100, 100, 100), filter__n=196, score=0.9221168247628557, total=   6.4s\n",
      "[CV] NN__hidden_layer_sizes=(100, 100, 100, 100), filter__n=196 ......\n",
      "[CV]  NN__hidden_layer_sizes=(100, 100, 100, 100), filter__n=196, score=0.9266100848726909, total=   7.3s\n",
      "[CV] NN__hidden_layer_sizes=(100, 100, 100, 100), filter__n=196 ......\n",
      "[CV]  NN__hidden_layer_sizes=(100, 100, 100, 100), filter__n=196, score=0.9285714285714286, total=   7.4s\n",
      "[CV] NN__hidden_layer_sizes=(100, 100, 100, 100), filter__n=196 ......\n",
      "[CV]  NN__hidden_layer_sizes=(100, 100, 100, 100), filter__n=196, score=0.927891837756635, total=   9.2s\n",
      "[CV] NN__hidden_layer_sizes=(100, 100, 100, 100), filter__n=196 ......\n",
      "[CV]  NN__hidden_layer_sizes=(100, 100, 100, 100), filter__n=196, score=0.9258145363408521, total=   7.0s\n",
      "[CV] NN__hidden_layer_sizes=(100, 100, 100, 100, 100), filter__n=36 ..\n",
      "[CV]  NN__hidden_layer_sizes=(100, 100, 100, 100, 100), filter__n=36, score=0.890164752870694, total=   6.3s\n",
      "[CV] NN__hidden_layer_sizes=(100, 100, 100, 100, 100), filter__n=36 ..\n",
      "[CV]  NN__hidden_layer_sizes=(100, 100, 100, 100, 100), filter__n=36, score=0.8966550174737893, total=   6.3s\n",
      "[CV] NN__hidden_layer_sizes=(100, 100, 100, 100, 100), filter__n=36 ..\n",
      "[CV]  NN__hidden_layer_sizes=(100, 100, 100, 100, 100), filter__n=36, score=0.9080919080919081, total=   9.1s\n",
      "[CV] NN__hidden_layer_sizes=(100, 100, 100, 100, 100), filter__n=36 ..\n",
      "[CV]  NN__hidden_layer_sizes=(100, 100, 100, 100, 100), filter__n=36, score=0.9053580370555834, total=   7.6s\n",
      "[CV] NN__hidden_layer_sizes=(100, 100, 100, 100, 100), filter__n=36 ..\n",
      "[CV]  NN__hidden_layer_sizes=(100, 100, 100, 100, 100), filter__n=36, score=0.906265664160401, total=   7.7s\n",
      "[CV] NN__hidden_layer_sizes=(100, 100, 100, 100, 100), filter__n=76 ..\n",
      "[CV]  NN__hidden_layer_sizes=(100, 100, 100, 100, 100), filter__n=76, score=0.9311033449825262, total=   8.3s\n",
      "[CV] NN__hidden_layer_sizes=(100, 100, 100, 100, 100), filter__n=76 ..\n"
     ]
    },
    {
     "name": "stdout",
     "output_type": "stream",
     "text": [
      "[CV]  NN__hidden_layer_sizes=(100, 100, 100, 100, 100), filter__n=76, score=0.9241138292561158, total=   6.5s\n",
      "[CV] NN__hidden_layer_sizes=(100, 100, 100, 100, 100), filter__n=76 ..\n",
      "[CV]  NN__hidden_layer_sizes=(100, 100, 100, 100, 100), filter__n=76, score=0.9270729270729271, total=   8.8s\n",
      "[CV] NN__hidden_layer_sizes=(100, 100, 100, 100, 100), filter__n=76 ..\n",
      "[CV]  NN__hidden_layer_sizes=(100, 100, 100, 100, 100), filter__n=76, score=0.9344016024036054, total=  11.6s\n",
      "[CV] NN__hidden_layer_sizes=(100, 100, 100, 100, 100), filter__n=76 ..\n",
      "[CV]  NN__hidden_layer_sizes=(100, 100, 100, 100, 100), filter__n=76, score=0.9353383458646617, total=   8.6s\n",
      "[CV] NN__hidden_layer_sizes=(100, 100, 100, 100, 100), filter__n=116 .\n",
      "[CV]  NN__hidden_layer_sizes=(100, 100, 100, 100, 100), filter__n=116, score=0.9251123315027459, total=   7.6s\n",
      "[CV] NN__hidden_layer_sizes=(100, 100, 100, 100, 100), filter__n=116 .\n",
      "[CV]  NN__hidden_layer_sizes=(100, 100, 100, 100, 100), filter__n=116, score=0.9256115826260609, total=   7.5s\n",
      "[CV] NN__hidden_layer_sizes=(100, 100, 100, 100, 100), filter__n=116 .\n",
      "[CV]  NN__hidden_layer_sizes=(100, 100, 100, 100, 100), filter__n=116, score=0.9340659340659341, total=   9.9s\n",
      "[CV] NN__hidden_layer_sizes=(100, 100, 100, 100, 100), filter__n=116 .\n",
      "[CV]  NN__hidden_layer_sizes=(100, 100, 100, 100, 100), filter__n=116, score=0.9349023535302955, total=   7.5s\n",
      "[CV] NN__hidden_layer_sizes=(100, 100, 100, 100, 100), filter__n=116 .\n",
      "[CV]  NN__hidden_layer_sizes=(100, 100, 100, 100, 100), filter__n=116, score=0.9323308270676691, total=   9.6s\n",
      "[CV] NN__hidden_layer_sizes=(100, 100, 100, 100, 100), filter__n=156 .\n",
      "[CV]  NN__hidden_layer_sizes=(100, 100, 100, 100, 100), filter__n=156, score=0.9201198202695956, total=  10.9s\n",
      "[CV] NN__hidden_layer_sizes=(100, 100, 100, 100, 100), filter__n=156 .\n",
      "[CV]  NN__hidden_layer_sizes=(100, 100, 100, 100, 100), filter__n=156, score=0.9291063404892661, total=   7.8s\n",
      "[CV] NN__hidden_layer_sizes=(100, 100, 100, 100, 100), filter__n=156 .\n",
      "[CV]  NN__hidden_layer_sizes=(100, 100, 100, 100, 100), filter__n=156, score=0.9410589410589411, total=   9.7s\n",
      "[CV] NN__hidden_layer_sizes=(100, 100, 100, 100, 100), filter__n=156 .\n",
      "[CV]  NN__hidden_layer_sizes=(100, 100, 100, 100, 100), filter__n=156, score=0.9188783174762143, total=   6.6s\n",
      "[CV] NN__hidden_layer_sizes=(100, 100, 100, 100, 100), filter__n=156 .\n",
      "[CV]  NN__hidden_layer_sizes=(100, 100, 100, 100, 100), filter__n=156, score=0.9338345864661655, total=   8.6s\n",
      "[CV] NN__hidden_layer_sizes=(100, 100, 100, 100, 100), filter__n=196 .\n",
      "[CV]  NN__hidden_layer_sizes=(100, 100, 100, 100, 100), filter__n=196, score=0.9256115826260609, total=   7.6s\n",
      "[CV] NN__hidden_layer_sizes=(100, 100, 100, 100, 100), filter__n=196 .\n",
      "[CV]  NN__hidden_layer_sizes=(100, 100, 100, 100, 100), filter__n=196, score=0.9176235646530204, total=   7.8s\n",
      "[CV] NN__hidden_layer_sizes=(100, 100, 100, 100, 100), filter__n=196 .\n",
      "[CV]  NN__hidden_layer_sizes=(100, 100, 100, 100, 100), filter__n=196, score=0.9170829170829171, total=   8.3s\n",
      "[CV] NN__hidden_layer_sizes=(100, 100, 100, 100, 100), filter__n=196 .\n",
      "[CV]  NN__hidden_layer_sizes=(100, 100, 100, 100, 100), filter__n=196, score=0.927391086629945, total=   9.6s\n",
      "[CV] NN__hidden_layer_sizes=(100, 100, 100, 100, 100), filter__n=196 .\n",
      "[CV]  NN__hidden_layer_sizes=(100, 100, 100, 100, 100), filter__n=196, score=0.9393483709273183, total=   9.9s\n"
     ]
    },
    {
     "name": "stderr",
     "output_type": "stream",
     "text": [
      "[Parallel(n_jobs=1)]: Done 125 out of 125 | elapsed: 14.5min finished\n"
     ]
    },
    {
     "data": {
      "text/plain": [
       "GridSearchCV(cv=5, error_score='raise-deprecating',\n",
       "       estimator=Pipeline(memory=None,\n",
       "     steps=[('filter', ImportanceSelect(model=RandomForestClassifier(bootstrap=True, class_weight='balanced',\n",
       "            criterion='gini', max_depth=None, max_features='auto',\n",
       "            max_leaf_nodes=None, min_impurity_decrease=0.0,\n",
       "            min_impurity_split=None, min_samples_leaf=1,\n",
       "           ...=True, solver='adam', tol=0.0001,\n",
       "       validation_fraction=0.1, verbose=False, warm_start=False))]),\n",
       "       fit_params=None, iid='warn', n_jobs=None,\n",
       "       param_grid={'filter__n': [36, 76, 116, 156, 196], 'NN__hidden_layer_sizes': [100, (100, 100), (100, 100, 100), (100, 100, 100, 100), (100, 100, 100, 100, 100)]},\n",
       "       pre_dispatch='2*n_jobs', refit=True, return_train_score='warn',\n",
       "       scoring=None, verbose=10)"
      ]
     },
     "execution_count": 4,
     "metadata": {},
     "output_type": "execute_result"
    }
   ],
   "source": [
    "dims = [i for i in range(36,197,40)]\n",
    "nn_arch=[(100),(100,100),(100,100,100), (100,100,100,100),(100,100,100,100,100)]\n",
    "\n",
    "    \n",
    "    \n",
    "grid ={'filter__n':dims,'NN__hidden_layer_sizes':nn_arch}\n",
    "rfc = RandomForestClassifier(n_estimators=100,class_weight='balanced',random_state=5,n_jobs=-1)\n",
    "filtr = ImportanceSelect(rfc)\n",
    "mlp = MLPClassifier(max_iter=5000,early_stopping=True,random_state=5, learning_rate='adaptive')\n",
    "pipe = Pipeline([('filter',filtr),('NN',mlp)])\n",
    "gs = GridSearchCV(pipe,grid,verbose=10,cv=5)\n",
    "\n",
    "gs.fit(X_train,y_train)\n"
   ]
  },
  {
   "cell_type": "code",
   "execution_count": 5,
   "metadata": {},
   "outputs": [],
   "source": [
    "tmp = pd.DataFrame(gs.cv_results_)\n",
    "tmp.to_csv('mnist_rf_nn.csv')"
   ]
  },
  {
   "cell_type": "code",
   "execution_count": 6,
   "metadata": {},
   "outputs": [
    {
     "name": "stdout",
     "output_type": "stream",
     "text": [
      "Best parameters set for Neural network:\n",
      "{'NN__hidden_layer_sizes': 100, 'filter__n': 116}\n",
      "Accuracy of Neural network: is 94.90%\n"
     ]
    }
   ],
   "source": [
    "best_params = gs.best_params_\n",
    "print(\"Best parameters set for Neural network:\")\n",
    "print(best_params)\n",
    "pred_best = gs.predict(X_test)\n",
    "best_accuracy = accuracy_score(y_test, pred_best)\n",
    "print('Accuracy of Neural network: is %.2f%%' % (best_accuracy * 100))"
   ]
  },
  {
   "cell_type": "code",
   "execution_count": 7,
   "metadata": {},
   "outputs": [
    {
     "name": "stdout",
     "output_type": "stream",
     "text": [
      "              precision    recall  f1-score   support\n",
      "\n",
      "           0       0.98      0.98      0.98        97\n",
      "           1       0.99      0.99      0.99       125\n",
      "           2       0.93      0.92      0.93       104\n",
      "           3       0.91      0.97      0.94        88\n",
      "           4       0.95      0.94      0.95       107\n",
      "           5       0.99      0.92      0.95        99\n",
      "           6       0.95      0.97      0.96        77\n",
      "           7       0.93      0.94      0.94       109\n",
      "           8       0.90      0.93      0.92        88\n",
      "           9       0.94      0.92      0.93       106\n",
      "\n",
      "   micro avg       0.95      0.95      0.95      1000\n",
      "   macro avg       0.95      0.95      0.95      1000\n",
      "weighted avg       0.95      0.95      0.95      1000\n",
      "\n"
     ]
    }
   ],
   "source": [
    "print(classification_report(y_test, gs.predict(X_test)))"
   ]
  },
  {
   "cell_type": "code",
   "execution_count": 8,
   "metadata": {},
   "outputs": [],
   "source": [
    "# https://gist.github.com/hitvoice/36cf44689065ca9b927431546381a3f7\n",
    "def cm_analysis(y_true, y_pred, labels, ymap=None, figsize=(15,15)):\n",
    "    if ymap is not None:\n",
    "        y_pred = [ymap[yi] for yi in y_pred]\n",
    "        y_true = [ymap[yi] for yi in y_true]\n",
    "        labels = [ymap[yi] for yi in labels]\n",
    "    cm = confusion_matrix(y_true, y_pred, labels=labels)\n",
    "    cm_sum = np.sum(cm, axis=1, keepdims=True)\n",
    "    cm_perc = cm / cm_sum.astype(float) * 100\n",
    "    annot = np.empty_like(cm).astype(str)\n",
    "    nrows, ncols = cm.shape\n",
    "    for i in range(nrows):\n",
    "        for j in range(ncols):\n",
    "            c = cm[i, j]\n",
    "            p = cm_perc[i, j]\n",
    "            if i == j:\n",
    "                s = cm_sum[i]\n",
    "                annot[i, j] = '%.1f%%\\n%d/%d' % (p, c, s)\n",
    "            elif c == 0:\n",
    "                annot[i, j] = ''\n",
    "            else:\n",
    "                annot[i, j] = '%.1f%%\\n%d' % (p, c)\n",
    "    cm = pd.DataFrame(cm, index=labels, columns=labels)\n",
    "    cm.index.name = 'Actual'\n",
    "    cm.columns.name = 'Predicted'\n",
    "    fig, ax = plt.subplots(figsize=figsize)\n",
    "    sns.heatmap(cm, annot=annot, fmt='', ax=ax)"
   ]
  },
  {
   "cell_type": "code",
   "execution_count": 9,
   "metadata": {},
   "outputs": [
    {
     "data": {
      "image/png": "[encoded data removed]",
      "text/plain": [
       "<Figure size 1080x1080 with 2 Axes>"
      ]
     },
     "metadata": {
      "needs_background": "light"
     },
     "output_type": "display_data"
    }
   ],
   "source": [
    "cm_analysis(y_test, gs.predict(X_test), range(10))"
   ]
  },
  {
   "cell_type": "code",
   "execution_count": null,
   "metadata": {},
   "outputs": [],
   "source": []
  }
 ],
 "metadata": {
  "kernelspec": {
   "display_name": "Python 3",
   "language": "python",
   "name": "python3"
  },
  "language_info": {
   "codemirror_mode": {
    "name": "ipython",
    "version": 3
   },
   "file_extension": ".py",
   "mimetype": "text/x-python",
   "name": "python",
   "nbconvert_exporter": "python",
   "pygments_lexer": "ipython3",
   "version": "3.6.3"
  }
 },
 "nbformat": 4,
 "nbformat_minor": 2
}
