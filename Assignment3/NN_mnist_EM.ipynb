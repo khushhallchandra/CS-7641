{
 "cells": [
  {
   "cell_type": "code",
   "execution_count": 1,
   "metadata": {},
   "outputs": [
    {
     "name": "stderr",
     "output_type": "stream",
     "text": [
      "Using TensorFlow backend.\n"
     ]
    }
   ],
   "source": [
    "%matplotlib inline\n",
    "import random\n",
    "random.seed(0)\n",
    "import numpy as np\n",
    "import warnings\n",
    "warnings.simplefilter('ignore')\n",
    "import pandas as pd\n",
    "import seaborn as sns\n",
    "from sklearn.base import TransformerMixin,BaseEstimator\n",
    "from sklearn.pipeline import Pipeline\n",
    "from sklearn.metrics.pairwise import pairwise_distances\n",
    "from matplotlib import pyplot as plt\n",
    "from sklearn.metrics import roc_curve, auc, accuracy_score, classification_report, roc_auc_score\n",
    "from sklearn.tree import DecisionTreeClassifier\n",
    "from sklearn.preprocessing import StandardScaler\n",
    "from matplotlib.legend_handler import HandlerLine2D\n",
    "from sklearn.model_selection import train_test_split, KFold, cross_val_score, learning_curve, GridSearchCV, validation_curve\n",
    "\n",
    "import timeit\n",
    "from sklearn.mixture import GaussianMixture as GMM\n",
    "from sklearn.neural_network import MLPClassifier\n",
    "from sklearn.model_selection import GridSearchCV\n",
    "from sklearn.decomposition import PCA, FastICA as ICA\n",
    "from sklearn.random_projection import GaussianRandomProjection as GRP, SparseRandomProjection as RCA\n",
    "from sklearn.ensemble import RandomForestClassifier\n",
    "from itertools import product\n",
    "from collections import defaultdict\n",
    "from sklearn.metrics import  confusion_matrix,adjusted_rand_score\n",
    "from sklearn.cluster import KMeans,SpectralClustering\n",
    "from sklearn.mixture import GaussianMixture\n",
    "from sklearn.metrics.cluster import homogeneity_score\n",
    "from sklearn import metrics\n",
    "from sklearn.decomposition import PCA,FastICA\n",
    "from sklearn.model_selection import train_test_split\n",
    "\n",
    "from keras.models import Sequential\n",
    "from keras.layers import Input, Dense, Conv2D, MaxPooling2D, UpSampling2D, Flatten, Reshape\n",
    "from keras import optimizers"
   ]
  },
  {
   "cell_type": "code",
   "execution_count": 2,
   "metadata": {},
   "outputs": [
    {
     "name": "stderr",
     "output_type": "stream",
     "text": [
      "/Users/khushhall/myEnv/lib/python3.6/site-packages/sklearn/utils/validation.py:590: DataConversionWarning: Data with input dtype uint8 was converted to float64 by StandardScaler.\n",
      "  warnings.warn(msg, DataConversionWarning)\n",
      "/Users/khushhall/myEnv/lib/python3.6/site-packages/sklearn/utils/validation.py:590: DataConversionWarning: Data with input dtype uint8 was converted to float64 by StandardScaler.\n",
      "  warnings.warn(msg, DataConversionWarning)\n",
      "/Users/khushhall/myEnv/lib/python3.6/site-packages/sklearn/utils/validation.py:590: DataConversionWarning: Data with input dtype uint8 was converted to float64 by StandardScaler.\n",
      "  warnings.warn(msg, DataConversionWarning)\n"
     ]
    }
   ],
   "source": [
    "from keras.datasets import mnist\n",
    "(X_train, y_train), (X_test, y_test) = mnist.load_data()\n",
    "\n",
    "skips = 2\n",
    "X_train=np.delete(X_train, list(range(0, X_train.shape[1], skips)), axis=1)\n",
    "X_train=np.delete(X_train, list(range(0, X_train.shape[2], skips)), axis=2)\n",
    "X_train = X_train.reshape(X_train.shape[0],-1)\n",
    "\n",
    "X_test = np.delete(X_test, list(range(0, X_test.shape[1], skips)), axis=1)\n",
    "X_test = np.delete(X_test, list(range(0, X_test.shape[2], skips)), axis=2)\n",
    "X_test = X_test.reshape(X_test.shape[0],-1)\n",
    "\n",
    "sc = StandardScaler()\n",
    "X_train = sc.fit_transform(X_train)\n",
    "X_test = sc.transform(X_test)\n",
    "\n",
    "idx_train = np.random.choice(60000, size = 10000, replace = False)\n",
    "idx_test = np.random.choice(10000, size = 1000, replace = False)\n",
    "X_train, y_train = X_train[idx_train], y_train[idx_train]\n",
    "X_test, y_test = X_test[idx_test], y_test[idx_test]"
   ]
  },
  {
   "cell_type": "code",
   "execution_count": 3,
   "metadata": {},
   "outputs": [],
   "source": [
    "class myGMM(GMM):\n",
    "    def transform(self, X):\n",
    "        return self.predict_proba(X)"
   ]
  },
  {
   "cell_type": "markdown",
   "metadata": {},
   "source": [
    "## MLP with EM "
   ]
  },
  {
   "cell_type": "code",
   "execution_count": 4,
   "metadata": {},
   "outputs": [
    {
     "name": "stderr",
     "output_type": "stream",
     "text": [
      "[Parallel(n_jobs=1)]: Using backend SequentialBackend with 1 concurrent workers.\n"
     ]
    },
    {
     "name": "stdout",
     "output_type": "stream",
     "text": [
      "Fitting 5 folds for each of 30 candidates, totalling 150 fits\n",
      "[CV] NN__hidden_layer_sizes=100, gmm__n_components=5 .................\n",
      "[CV]  NN__hidden_layer_sizes=100, gmm__n_components=5, score=0.29790419161676646, total=  13.3s\n",
      "[CV] NN__hidden_layer_sizes=100, gmm__n_components=5 .................\n"
     ]
    },
    {
     "name": "stderr",
     "output_type": "stream",
     "text": [
      "[Parallel(n_jobs=1)]: Done   1 out of   1 | elapsed:   13.5s remaining:    0.0s\n"
     ]
    },
    {
     "name": "stdout",
     "output_type": "stream",
     "text": [
      "[CV]  NN__hidden_layer_sizes=100, gmm__n_components=5, score=0.2753623188405797, total=   9.8s\n",
      "[CV] NN__hidden_layer_sizes=100, gmm__n_components=5 .................\n"
     ]
    },
    {
     "name": "stderr",
     "output_type": "stream",
     "text": [
      "[Parallel(n_jobs=1)]: Done   2 out of   2 | elapsed:   23.5s remaining:    0.0s\n"
     ]
    },
    {
     "name": "stdout",
     "output_type": "stream",
     "text": [
      "[CV]  NN__hidden_layer_sizes=100, gmm__n_components=5, score=0.2695, total=   6.6s\n",
      "[CV] NN__hidden_layer_sizes=100, gmm__n_components=5 .................\n"
     ]
    },
    {
     "name": "stderr",
     "output_type": "stream",
     "text": [
      "[Parallel(n_jobs=1)]: Done   3 out of   3 | elapsed:   30.2s remaining:    0.0s\n"
     ]
    },
    {
     "name": "stdout",
     "output_type": "stream",
     "text": [
      "[CV]  NN__hidden_layer_sizes=100, gmm__n_components=5, score=0.26413206603301653, total=   5.6s\n",
      "[CV] NN__hidden_layer_sizes=100, gmm__n_components=5 .................\n"
     ]
    },
    {
     "name": "stderr",
     "output_type": "stream",
     "text": [
      "[Parallel(n_jobs=1)]: Done   4 out of   4 | elapsed:   36.0s remaining:    0.0s\n"
     ]
    },
    {
     "name": "stdout",
     "output_type": "stream",
     "text": [
      "[CV]  NN__hidden_layer_sizes=100, gmm__n_components=5, score=0.2865731462925852, total=   9.2s\n",
      "[CV] NN__hidden_layer_sizes=100, gmm__n_components=10 ................\n"
     ]
    },
    {
     "name": "stderr",
     "output_type": "stream",
     "text": [
      "[Parallel(n_jobs=1)]: Done   5 out of   5 | elapsed:   45.4s remaining:    0.0s\n"
     ]
    },
    {
     "name": "stdout",
     "output_type": "stream",
     "text": [
      "[CV]  NN__hidden_layer_sizes=100, gmm__n_components=10, score=0.45109780439121755, total=  18.4s\n",
      "[CV] NN__hidden_layer_sizes=100, gmm__n_components=10 ................\n"
     ]
    },
    {
     "name": "stderr",
     "output_type": "stream",
     "text": [
      "[Parallel(n_jobs=1)]: Done   6 out of   6 | elapsed:  1.1min remaining:    0.0s\n"
     ]
    },
    {
     "name": "stdout",
     "output_type": "stream",
     "text": [
      "[CV]  NN__hidden_layer_sizes=100, gmm__n_components=10, score=0.4267866066966517, total=  17.1s\n",
      "[CV] NN__hidden_layer_sizes=100, gmm__n_components=10 ................\n"
     ]
    },
    {
     "name": "stderr",
     "output_type": "stream",
     "text": [
      "[Parallel(n_jobs=1)]: Done   7 out of   7 | elapsed:  1.4min remaining:    0.0s\n"
     ]
    },
    {
     "name": "stdout",
     "output_type": "stream",
     "text": [
      "[CV]  NN__hidden_layer_sizes=100, gmm__n_components=10, score=0.3955, total=  18.4s\n",
      "[CV] NN__hidden_layer_sizes=100, gmm__n_components=10 ................\n"
     ]
    },
    {
     "name": "stderr",
     "output_type": "stream",
     "text": [
      "[Parallel(n_jobs=1)]: Done   8 out of   8 | elapsed:  1.7min remaining:    0.0s\n"
     ]
    },
    {
     "name": "stdout",
     "output_type": "stream",
     "text": [
      "[CV]  NN__hidden_layer_sizes=100, gmm__n_components=10, score=0.4107053526763382, total=  25.2s\n",
      "[CV] NN__hidden_layer_sizes=100, gmm__n_components=10 ................\n"
     ]
    },
    {
     "name": "stderr",
     "output_type": "stream",
     "text": [
      "[Parallel(n_jobs=1)]: Done   9 out of   9 | elapsed:  2.1min remaining:    0.0s\n"
     ]
    },
    {
     "name": "stdout",
     "output_type": "stream",
     "text": [
      "[CV]  NN__hidden_layer_sizes=100, gmm__n_components=10, score=0.45991983967935873, total=  21.9s\n",
      "[CV] NN__hidden_layer_sizes=100, gmm__n_components=15 ................\n",
      "[CV]  NN__hidden_layer_sizes=100, gmm__n_components=15, score=0.4880239520958084, total=  36.9s\n",
      "[CV] NN__hidden_layer_sizes=100, gmm__n_components=15 ................\n",
      "[CV]  NN__hidden_layer_sizes=100, gmm__n_components=15, score=0.42278860569715143, total=  33.8s\n",
      "[CV] NN__hidden_layer_sizes=100, gmm__n_components=15 ................\n",
      "[CV]  NN__hidden_layer_sizes=100, gmm__n_components=15, score=0.4425, total=  47.6s\n",
      "[CV] NN__hidden_layer_sizes=100, gmm__n_components=15 ................\n",
      "[CV]  NN__hidden_layer_sizes=100, gmm__n_components=15, score=0.45822911455727866, total=  41.2s\n",
      "[CV] NN__hidden_layer_sizes=100, gmm__n_components=15 ................\n",
      "[CV]  NN__hidden_layer_sizes=100, gmm__n_components=15, score=0.48547094188376755, total=  38.7s\n",
      "[CV] NN__hidden_layer_sizes=100, gmm__n_components=20 ................\n",
      "[CV]  NN__hidden_layer_sizes=100, gmm__n_components=20, score=0.5029940119760479, total=  34.5s\n",
      "[CV] NN__hidden_layer_sizes=100, gmm__n_components=20 ................\n",
      "[CV]  NN__hidden_layer_sizes=100, gmm__n_components=20, score=0.4572713643178411, total=  42.0s\n",
      "[CV] NN__hidden_layer_sizes=100, gmm__n_components=20 ................\n",
      "[CV]  NN__hidden_layer_sizes=100, gmm__n_components=20, score=0.4625, total=  35.0s\n",
      "[CV] NN__hidden_layer_sizes=100, gmm__n_components=20 ................\n",
      "[CV]  NN__hidden_layer_sizes=100, gmm__n_components=20, score=0.46973486743371684, total=  30.3s\n",
      "[CV] NN__hidden_layer_sizes=100, gmm__n_components=20 ................\n",
      "[CV]  NN__hidden_layer_sizes=100, gmm__n_components=20, score=0.48997995991983967, total=  31.1s\n",
      "[CV] NN__hidden_layer_sizes=100, gmm__n_components=25 ................\n",
      "[CV]  NN__hidden_layer_sizes=100, gmm__n_components=25, score=0.5319361277445109, total=  47.5s\n",
      "[CV] NN__hidden_layer_sizes=100, gmm__n_components=25 ................\n",
      "[CV]  NN__hidden_layer_sizes=100, gmm__n_components=25, score=0.49725137431284355, total= 1.1min\n",
      "[CV] NN__hidden_layer_sizes=100, gmm__n_components=25 ................\n",
      "[CV]  NN__hidden_layer_sizes=100, gmm__n_components=25, score=0.4845, total=  44.6s\n",
      "[CV] NN__hidden_layer_sizes=100, gmm__n_components=25 ................\n",
      "[CV]  NN__hidden_layer_sizes=100, gmm__n_components=25, score=0.5097548774387194, total=  37.9s\n",
      "[CV] NN__hidden_layer_sizes=100, gmm__n_components=25 ................\n",
      "[CV]  NN__hidden_layer_sizes=100, gmm__n_components=25, score=0.5040080160320641, total=  50.7s\n",
      "[CV] NN__hidden_layer_sizes=100, gmm__n_components=30 ................\n",
      "[CV]  NN__hidden_layer_sizes=100, gmm__n_components=30, score=0.5454091816367266, total= 1.0min\n",
      "[CV] NN__hidden_layer_sizes=100, gmm__n_components=30 ................\n",
      "[CV]  NN__hidden_layer_sizes=100, gmm__n_components=30, score=0.48575712143928035, total=  45.3s\n",
      "[CV] NN__hidden_layer_sizes=100, gmm__n_components=30 ................\n",
      "[CV]  NN__hidden_layer_sizes=100, gmm__n_components=30, score=0.517, total= 1.4min\n",
      "[CV] NN__hidden_layer_sizes=100, gmm__n_components=30 ................\n",
      "[CV]  NN__hidden_layer_sizes=100, gmm__n_components=30, score=0.4842421210605303, total= 1.1min\n",
      "[CV] NN__hidden_layer_sizes=100, gmm__n_components=30 ................\n",
      "[CV]  NN__hidden_layer_sizes=100, gmm__n_components=30, score=0.4849699398797595, total= 1.2min\n",
      "[CV] NN__hidden_layer_sizes=(100, 100), gmm__n_components=5 ..........\n",
      "[CV]  NN__hidden_layer_sizes=(100, 100), gmm__n_components=5, score=0.29790419161676646, total=  20.1s\n",
      "[CV] NN__hidden_layer_sizes=(100, 100), gmm__n_components=5 ..........\n",
      "[CV]  NN__hidden_layer_sizes=(100, 100), gmm__n_components=5, score=0.2753623188405797, total=  15.4s\n",
      "[CV] NN__hidden_layer_sizes=(100, 100), gmm__n_components=5 ..........\n",
      "[CV]  NN__hidden_layer_sizes=(100, 100), gmm__n_components=5, score=0.2695, total=   7.1s\n",
      "[CV] NN__hidden_layer_sizes=(100, 100), gmm__n_components=5 ..........\n",
      "[CV]  NN__hidden_layer_sizes=(100, 100), gmm__n_components=5, score=0.2651325662831416, total=   6.1s\n",
      "[CV] NN__hidden_layer_sizes=(100, 100), gmm__n_components=5 ..........\n",
      "[CV]  NN__hidden_layer_sizes=(100, 100), gmm__n_components=5, score=0.2575150300601202, total=  13.0s\n",
      "[CV] NN__hidden_layer_sizes=(100, 100), gmm__n_components=10 .........\n",
      "[CV]  NN__hidden_layer_sizes=(100, 100), gmm__n_components=10, score=0.45109780439121755, total=  18.3s\n",
      "[CV] NN__hidden_layer_sizes=(100, 100), gmm__n_components=10 .........\n",
      "[CV]  NN__hidden_layer_sizes=(100, 100), gmm__n_components=10, score=0.42478760619690153, total=  19.9s\n",
      "[CV] NN__hidden_layer_sizes=(100, 100), gmm__n_components=10 .........\n",
      "[CV]  NN__hidden_layer_sizes=(100, 100), gmm__n_components=10, score=0.3825, total=  18.8s\n",
      "[CV] NN__hidden_layer_sizes=(100, 100), gmm__n_components=10 .........\n",
      "[CV]  NN__hidden_layer_sizes=(100, 100), gmm__n_components=10, score=0.4107053526763382, total=  31.4s\n",
      "[CV] NN__hidden_layer_sizes=(100, 100), gmm__n_components=10 .........\n",
      "[CV]  NN__hidden_layer_sizes=(100, 100), gmm__n_components=10, score=0.4634268537074148, total=  24.1s\n",
      "[CV] NN__hidden_layer_sizes=(100, 100), gmm__n_components=15 .........\n",
      "[CV]  NN__hidden_layer_sizes=(100, 100), gmm__n_components=15, score=0.48902195608782434, total=  32.2s\n",
      "[CV] NN__hidden_layer_sizes=(100, 100), gmm__n_components=15 .........\n",
      "[CV]  NN__hidden_layer_sizes=(100, 100), gmm__n_components=15, score=0.4257871064467766, total=  24.4s\n",
      "[CV] NN__hidden_layer_sizes=(100, 100), gmm__n_components=15 .........\n",
      "[CV]  NN__hidden_layer_sizes=(100, 100), gmm__n_components=15, score=0.449, total=  36.3s\n",
      "[CV] NN__hidden_layer_sizes=(100, 100), gmm__n_components=15 .........\n",
      "[CV]  NN__hidden_layer_sizes=(100, 100), gmm__n_components=15, score=0.45822911455727866, total=  38.4s\n",
      "[CV] NN__hidden_layer_sizes=(100, 100), gmm__n_components=15 .........\n",
      "[CV]  NN__hidden_layer_sizes=(100, 100), gmm__n_components=15, score=0.47945891783567135, total=  36.0s\n",
      "[CV] NN__hidden_layer_sizes=(100, 100), gmm__n_components=20 .........\n",
      "[CV]  NN__hidden_layer_sizes=(100, 100), gmm__n_components=20, score=0.49650698602794413, total=  35.8s\n",
      "[CV] NN__hidden_layer_sizes=(100, 100), gmm__n_components=20 .........\n",
      "[CV]  NN__hidden_layer_sizes=(100, 100), gmm__n_components=20, score=0.4572713643178411, total=  54.0s\n",
      "[CV] NN__hidden_layer_sizes=(100, 100), gmm__n_components=20 .........\n",
      "[CV]  NN__hidden_layer_sizes=(100, 100), gmm__n_components=20, score=0.462, total=  40.8s\n",
      "[CV] NN__hidden_layer_sizes=(100, 100), gmm__n_components=20 .........\n",
      "[CV]  NN__hidden_layer_sizes=(100, 100), gmm__n_components=20, score=0.46973486743371684, total=  33.2s\n",
      "[CV] NN__hidden_layer_sizes=(100, 100), gmm__n_components=20 .........\n",
      "[CV]  NN__hidden_layer_sizes=(100, 100), gmm__n_components=20, score=0.48897795591182364, total=  32.7s\n",
      "[CV] NN__hidden_layer_sizes=(100, 100), gmm__n_components=25 .........\n",
      "[CV]  NN__hidden_layer_sizes=(100, 100), gmm__n_components=25, score=0.5344311377245509, total=  46.0s\n",
      "[CV] NN__hidden_layer_sizes=(100, 100), gmm__n_components=25 .........\n",
      "[CV]  NN__hidden_layer_sizes=(100, 100), gmm__n_components=25, score=0.49725137431284355, total= 1.1min\n",
      "[CV] NN__hidden_layer_sizes=(100, 100), gmm__n_components=25 .........\n",
      "[CV]  NN__hidden_layer_sizes=(100, 100), gmm__n_components=25, score=0.4845, total=  46.2s\n",
      "[CV] NN__hidden_layer_sizes=(100, 100), gmm__n_components=25 .........\n",
      "[CV]  NN__hidden_layer_sizes=(100, 100), gmm__n_components=25, score=0.49724862431215605, total=  45.3s\n",
      "[CV] NN__hidden_layer_sizes=(100, 100), gmm__n_components=25 .........\n",
      "[CV]  NN__hidden_layer_sizes=(100, 100), gmm__n_components=25, score=0.49198396793587174, total=  54.8s\n",
      "[CV] NN__hidden_layer_sizes=(100, 100), gmm__n_components=30 .........\n",
      "[CV]  NN__hidden_layer_sizes=(100, 100), gmm__n_components=30, score=0.5454091816367266, total= 1.2min\n",
      "[CV] NN__hidden_layer_sizes=(100, 100), gmm__n_components=30 .........\n",
      "[CV]  NN__hidden_layer_sizes=(100, 100), gmm__n_components=30, score=0.48575712143928035, total=  53.0s\n",
      "[CV] NN__hidden_layer_sizes=(100, 100), gmm__n_components=30 .........\n",
      "[CV]  NN__hidden_layer_sizes=(100, 100), gmm__n_components=30, score=0.5185, total= 1.3min\n",
      "[CV] NN__hidden_layer_sizes=(100, 100), gmm__n_components=30 .........\n"
     ]
    },
    {
     "name": "stdout",
     "output_type": "stream",
     "text": [
      "[CV]  NN__hidden_layer_sizes=(100, 100), gmm__n_components=30, score=0.4842421210605303, total=  59.6s\n",
      "[CV] NN__hidden_layer_sizes=(100, 100), gmm__n_components=30 .........\n",
      "[CV]  NN__hidden_layer_sizes=(100, 100), gmm__n_components=30, score=0.4909819639278557, total= 1.0min\n",
      "[CV] NN__hidden_layer_sizes=(100, 100, 100), gmm__n_components=5 .....\n",
      "[CV]  NN__hidden_layer_sizes=(100, 100, 100), gmm__n_components=5, score=0.3003992015968064, total=  11.5s\n",
      "[CV] NN__hidden_layer_sizes=(100, 100, 100), gmm__n_components=5 .....\n",
      "[CV]  NN__hidden_layer_sizes=(100, 100, 100), gmm__n_components=5, score=0.2753623188405797, total=  10.2s\n",
      "[CV] NN__hidden_layer_sizes=(100, 100, 100), gmm__n_components=5 .....\n",
      "[CV]  NN__hidden_layer_sizes=(100, 100, 100), gmm__n_components=5, score=0.269, total=   9.0s\n",
      "[CV] NN__hidden_layer_sizes=(100, 100, 100), gmm__n_components=5 .....\n",
      "[CV]  NN__hidden_layer_sizes=(100, 100, 100), gmm__n_components=5, score=0.26413206603301653, total=  13.5s\n",
      "[CV] NN__hidden_layer_sizes=(100, 100, 100), gmm__n_components=5 .....\n",
      "[CV]  NN__hidden_layer_sizes=(100, 100, 100), gmm__n_components=5, score=0.2845691382765531, total=  11.3s\n",
      "[CV] NN__hidden_layer_sizes=(100, 100, 100), gmm__n_components=10 ....\n",
      "[CV]  NN__hidden_layer_sizes=(100, 100, 100), gmm__n_components=10, score=0.45858283433133734, total=  16.5s\n",
      "[CV] NN__hidden_layer_sizes=(100, 100, 100), gmm__n_components=10 ....\n",
      "[CV]  NN__hidden_layer_sizes=(100, 100, 100), gmm__n_components=10, score=0.42628685657171417, total=  15.4s\n",
      "[CV] NN__hidden_layer_sizes=(100, 100, 100), gmm__n_components=10 ....\n",
      "[CV]  NN__hidden_layer_sizes=(100, 100, 100), gmm__n_components=10, score=0.3885, total=  17.5s\n",
      "[CV] NN__hidden_layer_sizes=(100, 100, 100), gmm__n_components=10 ....\n",
      "[CV]  NN__hidden_layer_sizes=(100, 100, 100), gmm__n_components=10, score=0.40670335167583793, total=  22.8s\n",
      "[CV] NN__hidden_layer_sizes=(100, 100, 100), gmm__n_components=10 ....\n",
      "[CV]  NN__hidden_layer_sizes=(100, 100, 100), gmm__n_components=10, score=0.4634268537074148, total=  20.0s\n",
      "[CV] NN__hidden_layer_sizes=(100, 100, 100), gmm__n_components=15 ....\n",
      "[CV]  NN__hidden_layer_sizes=(100, 100, 100), gmm__n_components=15, score=0.48303393213572854, total=  26.2s\n",
      "[CV] NN__hidden_layer_sizes=(100, 100, 100), gmm__n_components=15 ....\n",
      "[CV]  NN__hidden_layer_sizes=(100, 100, 100), gmm__n_components=15, score=0.4192903548225887, total=  24.2s\n",
      "[CV] NN__hidden_layer_sizes=(100, 100, 100), gmm__n_components=15 ....\n",
      "[CV]  NN__hidden_layer_sizes=(100, 100, 100), gmm__n_components=15, score=0.44, total=  37.0s\n",
      "[CV] NN__hidden_layer_sizes=(100, 100, 100), gmm__n_components=15 ....\n",
      "[CV]  NN__hidden_layer_sizes=(100, 100, 100), gmm__n_components=15, score=0.4452226113056528, total=  34.5s\n",
      "[CV] NN__hidden_layer_sizes=(100, 100, 100), gmm__n_components=15 ....\n",
      "[CV]  NN__hidden_layer_sizes=(100, 100, 100), gmm__n_components=15, score=0.4894789579158317, total=  33.1s\n",
      "[CV] NN__hidden_layer_sizes=(100, 100, 100), gmm__n_components=20 ....\n",
      "[CV]  NN__hidden_layer_sizes=(100, 100, 100), gmm__n_components=20, score=0.49650698602794413, total=  31.5s\n",
      "[CV] NN__hidden_layer_sizes=(100, 100, 100), gmm__n_components=20 ....\n",
      "[CV]  NN__hidden_layer_sizes=(100, 100, 100), gmm__n_components=20, score=0.4522738630684658, total=  37.8s\n",
      "[CV] NN__hidden_layer_sizes=(100, 100, 100), gmm__n_components=20 ....\n",
      "[CV]  NN__hidden_layer_sizes=(100, 100, 100), gmm__n_components=20, score=0.455, total=  31.8s\n",
      "[CV] NN__hidden_layer_sizes=(100, 100, 100), gmm__n_components=20 ....\n",
      "[CV]  NN__hidden_layer_sizes=(100, 100, 100), gmm__n_components=20, score=0.46923461730865434, total=  31.8s\n",
      "[CV] NN__hidden_layer_sizes=(100, 100, 100), gmm__n_components=20 ....\n",
      "[CV]  NN__hidden_layer_sizes=(100, 100, 100), gmm__n_components=20, score=0.48997995991983967, total=  31.5s\n",
      "[CV] NN__hidden_layer_sizes=(100, 100, 100), gmm__n_components=25 ....\n",
      "[CV]  NN__hidden_layer_sizes=(100, 100, 100), gmm__n_components=25, score=0.531437125748503, total=  46.8s\n",
      "[CV] NN__hidden_layer_sizes=(100, 100, 100), gmm__n_components=25 ....\n",
      "[CV]  NN__hidden_layer_sizes=(100, 100, 100), gmm__n_components=25, score=0.4987506246876562, total= 1.0min\n",
      "[CV] NN__hidden_layer_sizes=(100, 100, 100), gmm__n_components=25 ....\n",
      "[CV]  NN__hidden_layer_sizes=(100, 100, 100), gmm__n_components=25, score=0.4845, total=  43.7s\n",
      "[CV] NN__hidden_layer_sizes=(100, 100, 100), gmm__n_components=25 ....\n",
      "[CV]  NN__hidden_layer_sizes=(100, 100, 100), gmm__n_components=25, score=0.5097548774387194, total=  37.7s\n",
      "[CV] NN__hidden_layer_sizes=(100, 100, 100), gmm__n_components=25 ....\n",
      "[CV]  NN__hidden_layer_sizes=(100, 100, 100), gmm__n_components=25, score=0.48997995991983967, total= 1.1min\n",
      "[CV] NN__hidden_layer_sizes=(100, 100, 100), gmm__n_components=30 ....\n",
      "[CV]  NN__hidden_layer_sizes=(100, 100, 100), gmm__n_components=30, score=0.5454091816367266, total= 1.3min\n",
      "[CV] NN__hidden_layer_sizes=(100, 100, 100), gmm__n_components=30 ....\n",
      "[CV]  NN__hidden_layer_sizes=(100, 100, 100), gmm__n_components=30, score=0.4817591204397801, total=  52.6s\n",
      "[CV] NN__hidden_layer_sizes=(100, 100, 100), gmm__n_components=30 ....\n",
      "[CV]  NN__hidden_layer_sizes=(100, 100, 100), gmm__n_components=30, score=0.5185, total= 1.3min\n",
      "[CV] NN__hidden_layer_sizes=(100, 100, 100), gmm__n_components=30 ....\n",
      "[CV]  NN__hidden_layer_sizes=(100, 100, 100), gmm__n_components=30, score=0.4842421210605303, total= 1.1min\n",
      "[CV] NN__hidden_layer_sizes=(100, 100, 100), gmm__n_components=30 ....\n",
      "[CV]  NN__hidden_layer_sizes=(100, 100, 100), gmm__n_components=30, score=0.4844689378757515, total= 1.5min\n",
      "[CV] NN__hidden_layer_sizes=(100, 100, 100, 100), gmm__n_components=5 \n",
      "[CV]  NN__hidden_layer_sizes=(100, 100, 100, 100), gmm__n_components=5, score=0.3003992015968064, total=  21.5s\n",
      "[CV] NN__hidden_layer_sizes=(100, 100, 100, 100), gmm__n_components=5 \n",
      "[CV]  NN__hidden_layer_sizes=(100, 100, 100, 100), gmm__n_components=5, score=0.27436281859070466, total=  16.8s\n",
      "[CV] NN__hidden_layer_sizes=(100, 100, 100, 100), gmm__n_components=5 \n",
      "[CV]  NN__hidden_layer_sizes=(100, 100, 100, 100), gmm__n_components=5, score=0.268, total=   9.0s\n",
      "[CV] NN__hidden_layer_sizes=(100, 100, 100, 100), gmm__n_components=5 \n",
      "[CV]  NN__hidden_layer_sizes=(100, 100, 100, 100), gmm__n_components=5, score=0.26413206603301653, total=   8.8s\n",
      "[CV] NN__hidden_layer_sizes=(100, 100, 100, 100), gmm__n_components=5 \n",
      "[CV]  NN__hidden_layer_sizes=(100, 100, 100, 100), gmm__n_components=5, score=0.2865731462925852, total=  11.5s\n",
      "[CV] NN__hidden_layer_sizes=(100, 100, 100, 100), gmm__n_components=10 \n",
      "[CV]  NN__hidden_layer_sizes=(100, 100, 100, 100), gmm__n_components=10, score=0.45858283433133734, total=  21.5s\n",
      "[CV] NN__hidden_layer_sizes=(100, 100, 100, 100), gmm__n_components=10 \n",
      "[CV]  NN__hidden_layer_sizes=(100, 100, 100, 100), gmm__n_components=10, score=0.42628685657171417, total=  17.5s\n",
      "[CV] NN__hidden_layer_sizes=(100, 100, 100, 100), gmm__n_components=10 \n",
      "[CV]  NN__hidden_layer_sizes=(100, 100, 100, 100), gmm__n_components=10, score=0.3885, total=  22.1s\n",
      "[CV] NN__hidden_layer_sizes=(100, 100, 100, 100), gmm__n_components=10 \n",
      "[CV]  NN__hidden_layer_sizes=(100, 100, 100, 100), gmm__n_components=10, score=0.4107053526763382, total=  38.8s\n",
      "[CV] NN__hidden_layer_sizes=(100, 100, 100, 100), gmm__n_components=10 \n",
      "[CV]  NN__hidden_layer_sizes=(100, 100, 100, 100), gmm__n_components=10, score=0.46142284569138275, total=  39.9s\n",
      "[CV] NN__hidden_layer_sizes=(100, 100, 100, 100), gmm__n_components=15 \n",
      "[CV]  NN__hidden_layer_sizes=(100, 100, 100, 100), gmm__n_components=15, score=0.4875249500998004, total=  37.0s\n",
      "[CV] NN__hidden_layer_sizes=(100, 100, 100, 100), gmm__n_components=15 \n",
      "[CV]  NN__hidden_layer_sizes=(100, 100, 100, 100), gmm__n_components=15, score=0.4112943528235882, total=  28.8s\n",
      "[CV] NN__hidden_layer_sizes=(100, 100, 100, 100), gmm__n_components=15 \n",
      "[CV]  NN__hidden_layer_sizes=(100, 100, 100, 100), gmm__n_components=15, score=0.4425, total=  46.2s\n",
      "[CV] NN__hidden_layer_sizes=(100, 100, 100, 100), gmm__n_components=15 \n",
      "[CV]  NN__hidden_layer_sizes=(100, 100, 100, 100), gmm__n_components=15, score=0.4452226113056528, total=  35.3s\n",
      "[CV] NN__hidden_layer_sizes=(100, 100, 100, 100), gmm__n_components=15 \n"
     ]
    },
    {
     "name": "stdout",
     "output_type": "stream",
     "text": [
      "[CV]  NN__hidden_layer_sizes=(100, 100, 100, 100), gmm__n_components=15, score=0.47945891783567135, total=  34.4s\n",
      "[CV] NN__hidden_layer_sizes=(100, 100, 100, 100), gmm__n_components=20 \n",
      "[CV]  NN__hidden_layer_sizes=(100, 100, 100, 100), gmm__n_components=20, score=0.499001996007984, total=  41.6s\n",
      "[CV] NN__hidden_layer_sizes=(100, 100, 100, 100), gmm__n_components=20 \n",
      "[CV]  NN__hidden_layer_sizes=(100, 100, 100, 100), gmm__n_components=20, score=0.45027486256871563, total=  48.3s\n",
      "[CV] NN__hidden_layer_sizes=(100, 100, 100, 100), gmm__n_components=20 \n",
      "[CV]  NN__hidden_layer_sizes=(100, 100, 100, 100), gmm__n_components=20, score=0.4625, total=  35.3s\n",
      "[CV] NN__hidden_layer_sizes=(100, 100, 100, 100), gmm__n_components=20 \n",
      "[CV]  NN__hidden_layer_sizes=(100, 100, 100, 100), gmm__n_components=20, score=0.4527263631815908, total=  37.6s\n",
      "[CV] NN__hidden_layer_sizes=(100, 100, 100, 100), gmm__n_components=20 \n",
      "[CV]  NN__hidden_layer_sizes=(100, 100, 100, 100), gmm__n_components=20, score=0.49148296593186375, total=  34.8s\n",
      "[CV] NN__hidden_layer_sizes=(100, 100, 100, 100), gmm__n_components=25 \n",
      "[CV]  NN__hidden_layer_sizes=(100, 100, 100, 100), gmm__n_components=25, score=0.531437125748503, total=  54.4s\n",
      "[CV] NN__hidden_layer_sizes=(100, 100, 100, 100), gmm__n_components=25 \n",
      "[CV]  NN__hidden_layer_sizes=(100, 100, 100, 100), gmm__n_components=25, score=0.49725137431284355, total= 1.1min\n",
      "[CV] NN__hidden_layer_sizes=(100, 100, 100, 100), gmm__n_components=25 \n",
      "[CV]  NN__hidden_layer_sizes=(100, 100, 100, 100), gmm__n_components=25, score=0.4715, total=  43.0s\n",
      "[CV] NN__hidden_layer_sizes=(100, 100, 100, 100), gmm__n_components=25 \n",
      "[CV]  NN__hidden_layer_sizes=(100, 100, 100, 100), gmm__n_components=25, score=0.5097548774387194, total=  38.5s\n",
      "[CV] NN__hidden_layer_sizes=(100, 100, 100, 100), gmm__n_components=25 \n",
      "[CV]  NN__hidden_layer_sizes=(100, 100, 100, 100), gmm__n_components=25, score=0.501002004008016, total=  54.3s\n",
      "[CV] NN__hidden_layer_sizes=(100, 100, 100, 100), gmm__n_components=30 \n",
      "[CV]  NN__hidden_layer_sizes=(100, 100, 100, 100), gmm__n_components=30, score=0.530938123752495, total=  59.2s\n",
      "[CV] NN__hidden_layer_sizes=(100, 100, 100, 100), gmm__n_components=30 \n",
      "[CV]  NN__hidden_layer_sizes=(100, 100, 100, 100), gmm__n_components=30, score=0.4847576211894053, total=  41.7s\n",
      "[CV] NN__hidden_layer_sizes=(100, 100, 100, 100), gmm__n_components=30 \n",
      "[CV]  NN__hidden_layer_sizes=(100, 100, 100, 100), gmm__n_components=30, score=0.5185, total= 1.4min\n",
      "[CV] NN__hidden_layer_sizes=(100, 100, 100, 100), gmm__n_components=30 \n",
      "[CV]  NN__hidden_layer_sizes=(100, 100, 100, 100), gmm__n_components=30, score=0.4842421210605303, total= 1.0min\n",
      "[CV] NN__hidden_layer_sizes=(100, 100, 100, 100), gmm__n_components=30 \n",
      "[CV]  NN__hidden_layer_sizes=(100, 100, 100, 100), gmm__n_components=30, score=0.4849699398797595, total= 1.6min\n",
      "[CV] NN__hidden_layer_sizes=(100, 100, 100, 100, 100), gmm__n_components=5 \n",
      "[CV]  NN__hidden_layer_sizes=(100, 100, 100, 100, 100), gmm__n_components=5, score=0.29790419161676646, total=  16.5s\n",
      "[CV] NN__hidden_layer_sizes=(100, 100, 100, 100, 100), gmm__n_components=5 \n",
      "[CV]  NN__hidden_layer_sizes=(100, 100, 100, 100, 100), gmm__n_components=5, score=0.27436281859070466, total=  12.7s\n",
      "[CV] NN__hidden_layer_sizes=(100, 100, 100, 100, 100), gmm__n_components=5 \n",
      "[CV]  NN__hidden_layer_sizes=(100, 100, 100, 100, 100), gmm__n_components=5, score=0.268, total=  10.4s\n",
      "[CV] NN__hidden_layer_sizes=(100, 100, 100, 100, 100), gmm__n_components=5 \n",
      "[CV]  NN__hidden_layer_sizes=(100, 100, 100, 100, 100), gmm__n_components=5, score=0.26413206603301653, total=   8.4s\n",
      "[CV] NN__hidden_layer_sizes=(100, 100, 100, 100, 100), gmm__n_components=5 \n",
      "[CV]  NN__hidden_layer_sizes=(100, 100, 100, 100, 100), gmm__n_components=5, score=0.2865731462925852, total=  14.2s\n",
      "[CV] NN__hidden_layer_sizes=(100, 100, 100, 100, 100), gmm__n_components=10 \n",
      "[CV]  NN__hidden_layer_sizes=(100, 100, 100, 100, 100), gmm__n_components=10, score=0.44560878243512975, total=  21.2s\n",
      "[CV] NN__hidden_layer_sizes=(100, 100, 100, 100, 100), gmm__n_components=10 \n",
      "[CV]  NN__hidden_layer_sizes=(100, 100, 100, 100, 100), gmm__n_components=10, score=0.41829085457271364, total=  18.6s\n",
      "[CV] NN__hidden_layer_sizes=(100, 100, 100, 100, 100), gmm__n_components=10 \n",
      "[CV]  NN__hidden_layer_sizes=(100, 100, 100, 100, 100), gmm__n_components=10, score=0.389, total=  24.9s\n",
      "[CV] NN__hidden_layer_sizes=(100, 100, 100, 100, 100), gmm__n_components=10 \n",
      "[CV]  NN__hidden_layer_sizes=(100, 100, 100, 100, 100), gmm__n_components=10, score=0.4042021010505253, total=  28.4s\n",
      "[CV] NN__hidden_layer_sizes=(100, 100, 100, 100, 100), gmm__n_components=10 \n",
      "[CV]  NN__hidden_layer_sizes=(100, 100, 100, 100, 100), gmm__n_components=10, score=0.45991983967935873, total=  27.0s\n",
      "[CV] NN__hidden_layer_sizes=(100, 100, 100, 100, 100), gmm__n_components=15 \n",
      "[CV]  NN__hidden_layer_sizes=(100, 100, 100, 100, 100), gmm__n_components=15, score=0.48303393213572854, total=  41.6s\n",
      "[CV] NN__hidden_layer_sizes=(100, 100, 100, 100, 100), gmm__n_components=15 \n",
      "[CV]  NN__hidden_layer_sizes=(100, 100, 100, 100, 100), gmm__n_components=15, score=0.4307846076961519, total=  30.4s\n",
      "[CV] NN__hidden_layer_sizes=(100, 100, 100, 100, 100), gmm__n_components=15 \n",
      "[CV]  NN__hidden_layer_sizes=(100, 100, 100, 100, 100), gmm__n_components=15, score=0.4445, total=  44.2s\n",
      "[CV] NN__hidden_layer_sizes=(100, 100, 100, 100, 100), gmm__n_components=15 \n",
      "[CV]  NN__hidden_layer_sizes=(100, 100, 100, 100, 100), gmm__n_components=15, score=0.45822911455727866, total=  54.8s\n",
      "[CV] NN__hidden_layer_sizes=(100, 100, 100, 100, 100), gmm__n_components=15 \n",
      "[CV]  NN__hidden_layer_sizes=(100, 100, 100, 100, 100), gmm__n_components=15, score=0.4834669338677355, total=  40.6s\n",
      "[CV] NN__hidden_layer_sizes=(100, 100, 100, 100, 100), gmm__n_components=20 \n",
      "[CV]  NN__hidden_layer_sizes=(100, 100, 100, 100, 100), gmm__n_components=20, score=0.49650698602794413, total=  39.5s\n",
      "[CV] NN__hidden_layer_sizes=(100, 100, 100, 100, 100), gmm__n_components=20 \n",
      "[CV]  NN__hidden_layer_sizes=(100, 100, 100, 100, 100), gmm__n_components=20, score=0.44677661169415295, total=  48.6s\n",
      "[CV] NN__hidden_layer_sizes=(100, 100, 100, 100, 100), gmm__n_components=20 \n",
      "[CV]  NN__hidden_layer_sizes=(100, 100, 100, 100, 100), gmm__n_components=20, score=0.4545, total=  39.1s\n",
      "[CV] NN__hidden_layer_sizes=(100, 100, 100, 100, 100), gmm__n_components=20 \n",
      "[CV]  NN__hidden_layer_sizes=(100, 100, 100, 100, 100), gmm__n_components=20, score=0.46973486743371684, total=  44.8s\n",
      "[CV] NN__hidden_layer_sizes=(100, 100, 100, 100, 100), gmm__n_components=20 \n",
      "[CV]  NN__hidden_layer_sizes=(100, 100, 100, 100, 100), gmm__n_components=20, score=0.48997995991983967, total=  46.7s\n",
      "[CV] NN__hidden_layer_sizes=(100, 100, 100, 100, 100), gmm__n_components=25 \n",
      "[CV]  NN__hidden_layer_sizes=(100, 100, 100, 100, 100), gmm__n_components=25, score=0.5219560878243513, total= 1.1min\n",
      "[CV] NN__hidden_layer_sizes=(100, 100, 100, 100, 100), gmm__n_components=25 \n",
      "[CV]  NN__hidden_layer_sizes=(100, 100, 100, 100, 100), gmm__n_components=25, score=0.49725137431284355, total= 1.5min\n",
      "[CV] NN__hidden_layer_sizes=(100, 100, 100, 100, 100), gmm__n_components=25 \n",
      "[CV]  NN__hidden_layer_sizes=(100, 100, 100, 100, 100), gmm__n_components=25, score=0.485, total= 1.0min\n",
      "[CV] NN__hidden_layer_sizes=(100, 100, 100, 100, 100), gmm__n_components=25 \n",
      "[CV]  NN__hidden_layer_sizes=(100, 100, 100, 100, 100), gmm__n_components=25, score=0.5097548774387194, total=  45.5s\n",
      "[CV] NN__hidden_layer_sizes=(100, 100, 100, 100, 100), gmm__n_components=25 \n",
      "[CV]  NN__hidden_layer_sizes=(100, 100, 100, 100, 100), gmm__n_components=25, score=0.5060120240480962, total= 1.2min\n",
      "[CV] NN__hidden_layer_sizes=(100, 100, 100, 100, 100), gmm__n_components=30 \n",
      "[CV]  NN__hidden_layer_sizes=(100, 100, 100, 100, 100), gmm__n_components=30, score=0.530938123752495, total= 1.0min\n",
      "[CV] NN__hidden_layer_sizes=(100, 100, 100, 100, 100), gmm__n_components=30 \n",
      "[CV]  NN__hidden_layer_sizes=(100, 100, 100, 100, 100), gmm__n_components=30, score=0.48575712143928035, total=  42.3s\n",
      "[CV] NN__hidden_layer_sizes=(100, 100, 100, 100, 100), gmm__n_components=30 \n",
      "[CV]  NN__hidden_layer_sizes=(100, 100, 100, 100, 100), gmm__n_components=30, score=0.5185, total= 1.3min\n",
      "[CV] NN__hidden_layer_sizes=(100, 100, 100, 100, 100), gmm__n_components=30 \n"
     ]
    },
    {
     "name": "stdout",
     "output_type": "stream",
     "text": [
      "[CV]  NN__hidden_layer_sizes=(100, 100, 100, 100, 100), gmm__n_components=30, score=0.4792396198099049, total= 1.0min\n",
      "[CV] NN__hidden_layer_sizes=(100, 100, 100, 100, 100), gmm__n_components=30 \n",
      "[CV]  NN__hidden_layer_sizes=(100, 100, 100, 100, 100), gmm__n_components=30, score=0.4904809619238477, total= 1.1min\n"
     ]
    },
    {
     "name": "stderr",
     "output_type": "stream",
     "text": [
      "[Parallel(n_jobs=1)]: Done 150 out of 150 | elapsed: 97.3min finished\n"
     ]
    },
    {
     "data": {
      "text/plain": [
       "GridSearchCV(cv=5, error_score='raise-deprecating',\n",
       "       estimator=Pipeline(memory=None,\n",
       "     steps=[('gmm', myGMM(covariance_type='full', init_params='kmeans', max_iter=100,\n",
       "   means_init=None, n_components=1, n_init=1, precisions_init=None,\n",
       "   random_state=5, reg_covar=1e-06, tol=0.001, verbose=0,\n",
       "   verbose_interval=10, warm_start=False, weights_init=None)), ('NN', MLPClassifier(activatio...=True, solver='adam', tol=0.0001,\n",
       "       validation_fraction=0.1, verbose=False, warm_start=False))]),\n",
       "       fit_params=None, iid='warn', n_jobs=None,\n",
       "       param_grid={'gmm__n_components': [5, 10, 15, 20, 25, 30], 'NN__hidden_layer_sizes': [100, (100, 100), (100, 100, 100), (100, 100, 100, 100), (100, 100, 100, 100, 100)]},\n",
       "       pre_dispatch='2*n_jobs', refit=True, return_train_score='warn',\n",
       "       scoring=None, verbose=10)"
      ]
     },
     "execution_count": 4,
     "metadata": {},
     "output_type": "execute_result"
    }
   ],
   "source": [
    "clusters =  [5, 10, 15, 20, 25, 30]\n",
    "nn_arch=[(100),(100,100),(100,100,100), (100,100,100,100),(100,100,100,100,100)]\n",
    "\n",
    "grid ={'gmm__n_components': clusters,'NN__hidden_layer_sizes':nn_arch}\n",
    "mlp = MLPClassifier(max_iter=5000,early_stopping=True,random_state=5, learning_rate='adaptive')\n",
    "gmm = myGMM(random_state=5)\n",
    "pipe = Pipeline([('gmm', gmm), ('NN', mlp)])\n",
    "gs = GridSearchCV(pipe,grid,verbose=10,cv=5)\n",
    "\n",
    "gs.fit(X_train,y_train)"
   ]
  },
  {
   "cell_type": "code",
   "execution_count": 5,
   "metadata": {},
   "outputs": [],
   "source": [
    "tmp = pd.DataFrame(gs.cv_results_)\n",
    "tmp.to_csv('mnist_em_nn.csv')"
   ]
  },
  {
   "cell_type": "code",
   "execution_count": 6,
   "metadata": {},
   "outputs": [
    {
     "name": "stdout",
     "output_type": "stream",
     "text": [
      "Best parameters set for Neural network:\n",
      "{'NN__hidden_layer_sizes': 100, 'gmm__n_components': 25}\n",
      "Accuracy of Neural network: is 46.60%\n"
     ]
    }
   ],
   "source": [
    "best_params = gs.best_params_\n",
    "print(\"Best parameters set for Neural network:\")\n",
    "print(best_params)\n",
    "pred_best = gs.predict(X_test)\n",
    "best_accuracy = accuracy_score(y_test, pred_best)\n",
    "print('Accuracy of Neural network: is %.2f%%' % (best_accuracy * 100))"
   ]
  },
  {
   "cell_type": "code",
   "execution_count": 7,
   "metadata": {},
   "outputs": [
    {
     "name": "stdout",
     "output_type": "stream",
     "text": [
      "              precision    recall  f1-score   support\n",
      "\n",
      "           0       0.54      0.54      0.54       105\n",
      "           1       0.96      0.76      0.85       100\n",
      "           2       0.76      0.38      0.51       108\n",
      "           3       0.42      0.25      0.31       108\n",
      "           4       0.31      0.04      0.07       109\n",
      "           5       0.42      0.24      0.31        86\n",
      "           6       0.75      0.89      0.82       103\n",
      "           7       0.48      0.78      0.59       102\n",
      "           8       0.19      0.54      0.28        93\n",
      "           9       0.22      0.21      0.21        86\n",
      "\n",
      "   micro avg       0.47      0.47      0.47      1000\n",
      "   macro avg       0.50      0.46      0.45      1000\n",
      "weighted avg       0.51      0.47      0.45      1000\n",
      "\n"
     ]
    }
   ],
   "source": [
    "print(classification_report(y_test, gs.predict(X_test)))"
   ]
  },
  {
   "cell_type": "code",
   "execution_count": 8,
   "metadata": {},
   "outputs": [],
   "source": [
    "# https://gist.github.com/hitvoice/36cf44689065ca9b927431546381a3f7\n",
    "def cm_analysis(y_true, y_pred, labels, ymap=None, figsize=(15,15)):\n",
    "    if ymap is not None:\n",
    "        y_pred = [ymap[yi] for yi in y_pred]\n",
    "        y_true = [ymap[yi] for yi in y_true]\n",
    "        labels = [ymap[yi] for yi in labels]\n",
    "    cm = confusion_matrix(y_true, y_pred, labels=labels)\n",
    "    cm_sum = np.sum(cm, axis=1, keepdims=True)\n",
    "    cm_perc = cm / cm_sum.astype(float) * 100\n",
    "    annot = np.empty_like(cm).astype(str)\n",
    "    nrows, ncols = cm.shape\n",
    "    for i in range(nrows):\n",
    "        for j in range(ncols):\n",
    "            c = cm[i, j]\n",
    "            p = cm_perc[i, j]\n",
    "            if i == j:\n",
    "                s = cm_sum[i]\n",
    "                annot[i, j] = '%.1f%%\\n%d/%d' % (p, c, s)\n",
    "            elif c == 0:\n",
    "                annot[i, j] = ''\n",
    "            else:\n",
    "                annot[i, j] = '%.1f%%\\n%d' % (p, c)\n",
    "    cm = pd.DataFrame(cm, index=labels, columns=labels)\n",
    "    cm.index.name = 'Actual'\n",
    "    cm.columns.name = 'Predicted'\n",
    "    fig, ax = plt.subplots(figsize=figsize)\n",
    "    sns.heatmap(cm, annot=annot, fmt='', ax=ax)"
   ]
  },
  {
   "cell_type": "code",
   "execution_count": 9,
   "metadata": {},
   "outputs": [
    {
     "data": {
      "image/png": "[encoded data removed]",
      "text/plain": [
       "<Figure size 1080x1080 with 2 Axes>"
      ]
     },
     "metadata": {
      "needs_background": "light"
     },
     "output_type": "display_data"
    }
   ],
   "source": [
    "cm_analysis(y_test, gs.predict(X_test), range(10))"
   ]
  },
  {
   "cell_type": "code",
   "execution_count": null,
   "metadata": {},
   "outputs": [],
   "source": []
  }
 ],
 "metadata": {
  "kernelspec": {
   "display_name": "Python 3",
   "language": "python",
   "name": "python3"
  },
  "language_info": {
   "codemirror_mode": {
    "name": "ipython",
    "version": 3
   },
   "file_extension": ".py",
   "mimetype": "text/x-python",
   "name": "python",
   "nbconvert_exporter": "python",
   "pygments_lexer": "ipython3",
   "version": "3.6.3"
  }
 },
 "nbformat": 4,
 "nbformat_minor": 2
}
